{
 "cells": [
  {
   "cell_type": "markdown",
   "metadata": {},
   "source": [
    "# CAPSTONE PROJECT-DATA ANALYSIS\n",
    "\n",
    "---"
   ]
  },
  {
   "cell_type": "markdown",
   "metadata": {},
   "source": [
    "The Capstone project involved developing data analytics, when students in the Data Science and Machine Learning program at Purwadhika, took on the role of data analysts at a company. I have provided the opportunity to formulate a series of questions based on the business needs and challenges that the company in question may face, using the dataset provided.\n",
    "\n",
    "Presented BY :\n",
    "**Nur Khadijah Nasution**, JCDS 2302\n",
    "\n",
    "---"
   ]
  },
  {
   "cell_type": "markdown",
   "metadata": {},
   "source": [
    "## Company Background "
   ]
  },
  {
   "cell_type": "markdown",
   "metadata": {},
   "source": [
    "![image](https://blog.vsoftconsulting.com/hubfs/How%20AWS%20is%20best%20as%20a%20SaaS.jpg)"
   ]
  },
  {
   "cell_type": "markdown",
   "metadata": {},
   "source": [
    " Amazon Web Services (AWS) is the primary arm of the company responsible for providing cloud computing services, including SaaS solutions.\n",
    " Software as a Service (SaaS) is a cloud-based software model that delivers applications to customers via the internet. In this model, SaaS vendors host and manage services and applications that can be accessed by customers on-demand.\n",
    "\n",
    " Amazon's approach to SaaS sales likely involves a combination of direct sales to enterprise customers, partnerships with independent software vendors (ISVs) to sell their SaaS products on AWS Marketplace, and providing resources and support to help businesses build and deploy their own SaaS solutions on AWS.\n",
    " \n",
    " Key factors that may differentiate Amazon's SaaS sales approach include its robust infrastructure, global reach, extensive network of partners, and focus on innovation and customer satisfaction. Additionally, Amazon's strong brand reputation and track record of reliability and security in cloud services may give it a competitive edge in the SaaS market.\n",
    "\n",
    " ---"
   ]
  },
  {
   "cell_type": "markdown",
   "metadata": {},
   "source": [
    "Problems\n",
    "1. Do pricing models have significant impact on sales and revenue of the company? Also is the current method is relatable to the current customer's business model?\n",
    "\n",
    "2. How to design strategies with industry-specific demands in mind?\n",
    "\n",
    "3. In what way do purchasing decisions guide the development team in improving products ?"
   ]
  },
  {
   "cell_type": "markdown",
   "metadata": {},
   "source": [
    "Implementation\n",
    "1. Offer flexible pricing plans to serve different customer segments\n",
    "\n",
    "    Experiment with pricing strategies such as tiered pricing, usage-based pricing, or value-based pricing.\n",
    "\n",
    "2. Designing a strategy that meets industry demands requirement\n",
    "\n",
    "    Guide the development team in creating value-added features by identifying and addressing customer needs and purchasing decisions.\n",
    "\n",
    "3.  Innovating products to better customer needs and expectations improve product features and functionality.\n",
    "\n",
    "    Identify unique selling points or factors that influence customer purchasing decisions, development teams can prioritize improvements that increase the overall value of the product.\n",
    "\n",
    "---"
   ]
  },
  {
   "cell_type": "markdown",
   "metadata": {},
   "source": [
    "## Preparation"
   ]
  },
  {
   "cell_type": "markdown",
   "metadata": {},
   "source": [
    "# **1. Library**"
   ]
  },
  {
   "cell_type": "code",
   "execution_count": 2,
   "metadata": {},
   "outputs": [
    {
     "name": "stderr",
     "output_type": "stream",
     "text": [
      "c:\\Users\\USER\\anaconda3\\Lib\\site-packages\\pandas\\core\\arrays\\masked.py:60: UserWarning: Pandas requires version '1.3.6' or newer of 'bottleneck' (version '1.3.5' currently installed).\n",
      "  from pandas.core import (\n"
     ]
    }
   ],
   "source": [
    "import numpy as np\n",
    "import pandas as pd\n",
    "import seaborn as sns\n",
    "import matplotlib.pyplot as plt\n",
    "\n",
    "import warnings\n",
    "warnings.filterwarnings(\"ignore\", category=FutureWarning)"
   ]
  },
  {
   "cell_type": "markdown",
   "metadata": {},
   "source": [
    "# **2. Dataset**"
   ]
  },
  {
   "cell_type": "markdown",
   "metadata": {},
   "source": [
    "## 2.1 Load Dataset"
   ]
  },
  {
   "cell_type": "code",
   "execution_count": 3,
   "metadata": {},
   "outputs": [
    {
     "data": {
      "text/html": [
       "<div>\n",
       "<style scoped>\n",
       "    .dataframe tbody tr th:only-of-type {\n",
       "        vertical-align: middle;\n",
       "    }\n",
       "\n",
       "    .dataframe tbody tr th {\n",
       "        vertical-align: top;\n",
       "    }\n",
       "\n",
       "    .dataframe thead th {\n",
       "        text-align: right;\n",
       "    }\n",
       "</style>\n",
       "<table border=\"1\" class=\"dataframe\">\n",
       "  <thead>\n",
       "    <tr style=\"text-align: right;\">\n",
       "      <th></th>\n",
       "      <th>Row ID</th>\n",
       "      <th>Order ID</th>\n",
       "      <th>Order Date</th>\n",
       "      <th>Date Key</th>\n",
       "      <th>Contact Name</th>\n",
       "      <th>Country</th>\n",
       "      <th>City</th>\n",
       "      <th>Region</th>\n",
       "      <th>Subregion</th>\n",
       "      <th>Customer</th>\n",
       "      <th>Customer ID</th>\n",
       "      <th>Industry</th>\n",
       "      <th>Segment</th>\n",
       "      <th>Product</th>\n",
       "      <th>License</th>\n",
       "      <th>Sales</th>\n",
       "      <th>Quantity</th>\n",
       "      <th>Discount</th>\n",
       "      <th>Profit</th>\n",
       "    </tr>\n",
       "  </thead>\n",
       "  <tbody>\n",
       "    <tr>\n",
       "      <th>0</th>\n",
       "      <td>1</td>\n",
       "      <td>EMEA-2022-152156</td>\n",
       "      <td>11/9/2022</td>\n",
       "      <td>20221109</td>\n",
       "      <td>Nathan Bell</td>\n",
       "      <td>Ireland</td>\n",
       "      <td>Dublin</td>\n",
       "      <td>EMEA</td>\n",
       "      <td>UKIR</td>\n",
       "      <td>Chevron</td>\n",
       "      <td>1017</td>\n",
       "      <td>Energy</td>\n",
       "      <td>SMB</td>\n",
       "      <td>Marketing Suite</td>\n",
       "      <td>16GRM07R1K</td>\n",
       "      <td>261.9600</td>\n",
       "      <td>2</td>\n",
       "      <td>0.00</td>\n",
       "      <td>41.9136</td>\n",
       "    </tr>\n",
       "    <tr>\n",
       "      <th>1</th>\n",
       "      <td>2</td>\n",
       "      <td>EMEA-2022-152156</td>\n",
       "      <td>11/9/2022</td>\n",
       "      <td>20221109</td>\n",
       "      <td>Nathan Bell</td>\n",
       "      <td>Ireland</td>\n",
       "      <td>Dublin</td>\n",
       "      <td>EMEA</td>\n",
       "      <td>UKIR</td>\n",
       "      <td>Chevron</td>\n",
       "      <td>1017</td>\n",
       "      <td>Energy</td>\n",
       "      <td>SMB</td>\n",
       "      <td>FinanceHub</td>\n",
       "      <td>QLIW57KZUV</td>\n",
       "      <td>731.9400</td>\n",
       "      <td>3</td>\n",
       "      <td>0.00</td>\n",
       "      <td>219.5820</td>\n",
       "    </tr>\n",
       "    <tr>\n",
       "      <th>2</th>\n",
       "      <td>3</td>\n",
       "      <td>AMER-2022-138688</td>\n",
       "      <td>6/13/2022</td>\n",
       "      <td>20220613</td>\n",
       "      <td>Deirdre Bailey</td>\n",
       "      <td>United States</td>\n",
       "      <td>New York City</td>\n",
       "      <td>AMER</td>\n",
       "      <td>NAMER</td>\n",
       "      <td>Phillips 66</td>\n",
       "      <td>1056</td>\n",
       "      <td>Energy</td>\n",
       "      <td>Strategic</td>\n",
       "      <td>FinanceHub</td>\n",
       "      <td>JI6BVL70HQ</td>\n",
       "      <td>14.6200</td>\n",
       "      <td>2</td>\n",
       "      <td>0.00</td>\n",
       "      <td>6.8714</td>\n",
       "    </tr>\n",
       "    <tr>\n",
       "      <th>3</th>\n",
       "      <td>4</td>\n",
       "      <td>EMEA-2021-108966</td>\n",
       "      <td>10/11/2021</td>\n",
       "      <td>20211011</td>\n",
       "      <td>Zoe Hodges</td>\n",
       "      <td>Germany</td>\n",
       "      <td>Stuttgart</td>\n",
       "      <td>EMEA</td>\n",
       "      <td>EU-WEST</td>\n",
       "      <td>Royal Dutch Shell</td>\n",
       "      <td>1031</td>\n",
       "      <td>Energy</td>\n",
       "      <td>SMB</td>\n",
       "      <td>ContactMatcher</td>\n",
       "      <td>DE9GJKGD44</td>\n",
       "      <td>957.5775</td>\n",
       "      <td>5</td>\n",
       "      <td>0.45</td>\n",
       "      <td>-383.0310</td>\n",
       "    </tr>\n",
       "    <tr>\n",
       "      <th>4</th>\n",
       "      <td>5</td>\n",
       "      <td>EMEA-2021-108966</td>\n",
       "      <td>10/11/2021</td>\n",
       "      <td>20211011</td>\n",
       "      <td>Zoe Hodges</td>\n",
       "      <td>Germany</td>\n",
       "      <td>Stuttgart</td>\n",
       "      <td>EMEA</td>\n",
       "      <td>EU-WEST</td>\n",
       "      <td>Royal Dutch Shell</td>\n",
       "      <td>1031</td>\n",
       "      <td>Energy</td>\n",
       "      <td>SMB</td>\n",
       "      <td>Marketing Suite - Gold</td>\n",
       "      <td>OIF7NY23WD</td>\n",
       "      <td>22.3680</td>\n",
       "      <td>2</td>\n",
       "      <td>0.20</td>\n",
       "      <td>2.5164</td>\n",
       "    </tr>\n",
       "  </tbody>\n",
       "</table>\n",
       "</div>"
      ],
      "text/plain": [
       "   Row ID          Order ID  Order Date  Date Key    Contact Name  \\\n",
       "0       1  EMEA-2022-152156   11/9/2022  20221109     Nathan Bell   \n",
       "1       2  EMEA-2022-152156   11/9/2022  20221109     Nathan Bell   \n",
       "2       3  AMER-2022-138688   6/13/2022  20220613  Deirdre Bailey   \n",
       "3       4  EMEA-2021-108966  10/11/2021  20211011      Zoe Hodges   \n",
       "4       5  EMEA-2021-108966  10/11/2021  20211011      Zoe Hodges   \n",
       "\n",
       "         Country           City Region Subregion           Customer  \\\n",
       "0        Ireland         Dublin   EMEA      UKIR            Chevron   \n",
       "1        Ireland         Dublin   EMEA      UKIR            Chevron   \n",
       "2  United States  New York City   AMER     NAMER        Phillips 66   \n",
       "3        Germany      Stuttgart   EMEA   EU-WEST  Royal Dutch Shell   \n",
       "4        Germany      Stuttgart   EMEA   EU-WEST  Royal Dutch Shell   \n",
       "\n",
       "   Customer ID Industry    Segment                 Product     License  \\\n",
       "0         1017   Energy        SMB         Marketing Suite  16GRM07R1K   \n",
       "1         1017   Energy        SMB              FinanceHub  QLIW57KZUV   \n",
       "2         1056   Energy  Strategic              FinanceHub  JI6BVL70HQ   \n",
       "3         1031   Energy        SMB          ContactMatcher  DE9GJKGD44   \n",
       "4         1031   Energy        SMB  Marketing Suite - Gold  OIF7NY23WD   \n",
       "\n",
       "      Sales  Quantity  Discount    Profit  \n",
       "0  261.9600         2      0.00   41.9136  \n",
       "1  731.9400         3      0.00  219.5820  \n",
       "2   14.6200         2      0.00    6.8714  \n",
       "3  957.5775         5      0.45 -383.0310  \n",
       "4   22.3680         2      0.20    2.5164  "
      ]
     },
     "execution_count": 3,
     "metadata": {},
     "output_type": "execute_result"
    }
   ],
   "source": [
    "df = pd.read_csv('SaaSs-Sales.csv')\n",
    "df.head()"
   ]
  },
  {
   "cell_type": "markdown",
   "metadata": {},
   "source": [
    "\n",
    "\n",
    "| No.  | Field Name      | Description                                      |\n",
    "|------|-----------------|--------------------------------------------------|\n",
    "| 1    | Row ID          | A unique identifier for each transaction.        |\n",
    "| 2    | Order ID        | A unique identifier for each order.              |\n",
    "| 3    | Order Date      | The date when the order was placed.              |\n",
    "| 4    | Date Key        | A numerical representation of the order date (MMDDYYYY).|\n",
    "| 5    | Contact Name    | The name of the person who placed the order.     |\n",
    "| 6    | Country         | The country where the order was placed.          |\n",
    "| 7    | City            | The city where the order was placed.             |\n",
    "| 8    | Region          | The region where the order was placed.           |\n",
    "| 9    | Subregion       | The subregion where the order was placed.        |\n",
    "| 10   | Customer        | The name of the company that placed the order.   |\n",
    "| 11   | Customer ID     | A unique identifier for each customer.           |\n",
    "| 12   | Industry        | The industry the customer belongs to.            |\n",
    "| 13   | Segment         | The customer segment (SMB, Strategic, Enterprise, etc.).|\n",
    "| 14   | Product         | The product that was ordered.                    |\n",
    "| 15   | License         | The license key for the product.                 |\n",
    "| 16   | Sales           | The total sales amount for the transaction.      |\n",
    "| 17   | Quantity        | The total number of items in the transaction.    |\n",
    "| 18   | Discount        | The discount applied to the transaction.         |\n",
    "| 19   | Profit          | The profit from the transaction.                 |\n"
   ]
  },
  {
   "cell_type": "markdown",
   "metadata": {},
   "source": [
    "## 2.2 Dataset information"
   ]
  },
  {
   "cell_type": "markdown",
   "metadata": {},
   "source": [
    "### Columns"
   ]
  },
  {
   "cell_type": "code",
   "execution_count": 4,
   "metadata": {},
   "outputs": [
    {
     "name": "stdout",
     "output_type": "stream",
     "text": [
      "<class 'pandas.core.frame.DataFrame'>\n",
      "RangeIndex: 9994 entries, 0 to 9993\n",
      "Data columns (total 19 columns):\n",
      " #   Column        Non-Null Count  Dtype  \n",
      "---  ------        --------------  -----  \n",
      " 0   Row ID        9994 non-null   int64  \n",
      " 1   Order ID      9994 non-null   object \n",
      " 2   Order Date    9994 non-null   object \n",
      " 3   Date Key      9994 non-null   int64  \n",
      " 4   Contact Name  9994 non-null   object \n",
      " 5   Country       9994 non-null   object \n",
      " 6   City          9994 non-null   object \n",
      " 7   Region        9994 non-null   object \n",
      " 8   Subregion     9994 non-null   object \n",
      " 9   Customer      9994 non-null   object \n",
      " 10  Customer ID   9994 non-null   int64  \n",
      " 11  Industry      9994 non-null   object \n",
      " 12  Segment       9994 non-null   object \n",
      " 13  Product       9994 non-null   object \n",
      " 14  License       9994 non-null   object \n",
      " 15  Sales         9994 non-null   float64\n",
      " 16  Quantity      9994 non-null   int64  \n",
      " 17  Discount      9994 non-null   float64\n",
      " 18  Profit        9994 non-null   float64\n",
      "dtypes: float64(3), int64(4), object(12)\n",
      "memory usage: 1.4+ MB\n"
     ]
    }
   ],
   "source": [
    "df.info()"
   ]
  },
  {
   "cell_type": "markdown",
   "metadata": {},
   "source": [
    "### Values"
   ]
  },
  {
   "cell_type": "code",
   "execution_count": 5,
   "metadata": {},
   "outputs": [
    {
     "data": {
      "text/html": [
       "<div>\n",
       "<style scoped>\n",
       "    .dataframe tbody tr th:only-of-type {\n",
       "        vertical-align: middle;\n",
       "    }\n",
       "\n",
       "    .dataframe tbody tr th {\n",
       "        vertical-align: top;\n",
       "    }\n",
       "\n",
       "    .dataframe thead th {\n",
       "        text-align: right;\n",
       "    }\n",
       "</style>\n",
       "<table border=\"1\" class=\"dataframe\">\n",
       "  <thead>\n",
       "    <tr style=\"text-align: right;\">\n",
       "      <th></th>\n",
       "      <th>Row ID</th>\n",
       "      <th>Date Key</th>\n",
       "      <th>Customer ID</th>\n",
       "      <th>Sales</th>\n",
       "      <th>Quantity</th>\n",
       "      <th>Discount</th>\n",
       "      <th>Profit</th>\n",
       "    </tr>\n",
       "  </thead>\n",
       "  <tbody>\n",
       "    <tr>\n",
       "      <th>count</th>\n",
       "      <td>9994.000000</td>\n",
       "      <td>9.994000e+03</td>\n",
       "      <td>9994.000000</td>\n",
       "      <td>9994.000000</td>\n",
       "      <td>9994.000000</td>\n",
       "      <td>9994.000000</td>\n",
       "      <td>9994.000000</td>\n",
       "    </tr>\n",
       "    <tr>\n",
       "      <th>mean</th>\n",
       "      <td>4997.500000</td>\n",
       "      <td>2.021803e+07</td>\n",
       "      <td>1049.771963</td>\n",
       "      <td>229.858001</td>\n",
       "      <td>3.789574</td>\n",
       "      <td>0.156203</td>\n",
       "      <td>28.656896</td>\n",
       "    </tr>\n",
       "    <tr>\n",
       "      <th>std</th>\n",
       "      <td>2885.163629</td>\n",
       "      <td>1.123898e+04</td>\n",
       "      <td>29.719388</td>\n",
       "      <td>623.245101</td>\n",
       "      <td>2.225110</td>\n",
       "      <td>0.206452</td>\n",
       "      <td>234.260108</td>\n",
       "    </tr>\n",
       "    <tr>\n",
       "      <th>min</th>\n",
       "      <td>1.000000</td>\n",
       "      <td>2.020010e+07</td>\n",
       "      <td>1001.000000</td>\n",
       "      <td>0.444000</td>\n",
       "      <td>1.000000</td>\n",
       "      <td>0.000000</td>\n",
       "      <td>-6599.978000</td>\n",
       "    </tr>\n",
       "    <tr>\n",
       "      <th>25%</th>\n",
       "      <td>2499.250000</td>\n",
       "      <td>2.021052e+07</td>\n",
       "      <td>1024.000000</td>\n",
       "      <td>17.280000</td>\n",
       "      <td>2.000000</td>\n",
       "      <td>0.000000</td>\n",
       "      <td>1.728750</td>\n",
       "    </tr>\n",
       "    <tr>\n",
       "      <th>50%</th>\n",
       "      <td>4997.500000</td>\n",
       "      <td>2.022063e+07</td>\n",
       "      <td>1049.000000</td>\n",
       "      <td>54.490000</td>\n",
       "      <td>3.000000</td>\n",
       "      <td>0.200000</td>\n",
       "      <td>8.666500</td>\n",
       "    </tr>\n",
       "    <tr>\n",
       "      <th>75%</th>\n",
       "      <td>7495.750000</td>\n",
       "      <td>2.023052e+07</td>\n",
       "      <td>1076.000000</td>\n",
       "      <td>209.940000</td>\n",
       "      <td>5.000000</td>\n",
       "      <td>0.200000</td>\n",
       "      <td>29.364000</td>\n",
       "    </tr>\n",
       "    <tr>\n",
       "      <th>max</th>\n",
       "      <td>9994.000000</td>\n",
       "      <td>2.023123e+07</td>\n",
       "      <td>1101.000000</td>\n",
       "      <td>22638.480000</td>\n",
       "      <td>14.000000</td>\n",
       "      <td>0.800000</td>\n",
       "      <td>8399.976000</td>\n",
       "    </tr>\n",
       "  </tbody>\n",
       "</table>\n",
       "</div>"
      ],
      "text/plain": [
       "            Row ID      Date Key  Customer ID         Sales     Quantity  \\\n",
       "count  9994.000000  9.994000e+03  9994.000000   9994.000000  9994.000000   \n",
       "mean   4997.500000  2.021803e+07  1049.771963    229.858001     3.789574   \n",
       "std    2885.163629  1.123898e+04    29.719388    623.245101     2.225110   \n",
       "min       1.000000  2.020010e+07  1001.000000      0.444000     1.000000   \n",
       "25%    2499.250000  2.021052e+07  1024.000000     17.280000     2.000000   \n",
       "50%    4997.500000  2.022063e+07  1049.000000     54.490000     3.000000   \n",
       "75%    7495.750000  2.023052e+07  1076.000000    209.940000     5.000000   \n",
       "max    9994.000000  2.023123e+07  1101.000000  22638.480000    14.000000   \n",
       "\n",
       "          Discount       Profit  \n",
       "count  9994.000000  9994.000000  \n",
       "mean      0.156203    28.656896  \n",
       "std       0.206452   234.260108  \n",
       "min       0.000000 -6599.978000  \n",
       "25%       0.000000     1.728750  \n",
       "50%       0.200000     8.666500  \n",
       "75%       0.200000    29.364000  \n",
       "max       0.800000  8399.976000  "
      ]
     },
     "execution_count": 5,
     "metadata": {},
     "output_type": "execute_result"
    }
   ],
   "source": [
    "df.describe()"
   ]
  },
  {
   "cell_type": "markdown",
   "metadata": {},
   "source": [
    "### Missing Value"
   ]
  },
  {
   "cell_type": "code",
   "execution_count": 6,
   "metadata": {},
   "outputs": [
    {
     "data": {
      "text/plain": [
       "Row ID          0\n",
       "Order ID        0\n",
       "Order Date      0\n",
       "Date Key        0\n",
       "Contact Name    0\n",
       "Country         0\n",
       "City            0\n",
       "Region          0\n",
       "Subregion       0\n",
       "Customer        0\n",
       "Customer ID     0\n",
       "Industry        0\n",
       "Segment         0\n",
       "Product         0\n",
       "License         0\n",
       "Sales           0\n",
       "Quantity        0\n",
       "Discount        0\n",
       "Profit          0\n",
       "dtype: int64"
      ]
     },
     "execution_count": 6,
     "metadata": {},
     "output_type": "execute_result"
    }
   ],
   "source": [
    "df.isna().sum()"
   ]
  },
  {
   "cell_type": "markdown",
   "metadata": {},
   "source": [
    "### Check for duplicates"
   ]
  },
  {
   "cell_type": "code",
   "execution_count": 7,
   "metadata": {},
   "outputs": [
    {
     "data": {
      "text/plain": [
       "0"
      ]
     },
     "execution_count": 7,
     "metadata": {},
     "output_type": "execute_result"
    }
   ],
   "source": [
    "df.duplicated().sum()"
   ]
  },
  {
   "cell_type": "markdown",
   "metadata": {},
   "source": [
    "# **3. Data Cleaning**"
   ]
  },
  {
   "cell_type": "markdown",
   "metadata": {},
   "source": [
    "## 3.1 Column cleaning"
   ]
  },
  {
   "cell_type": "markdown",
   "metadata": {},
   "source": [
    "### *Order ID*"
   ]
  },
  {
   "cell_type": "code",
   "execution_count": 8,
   "metadata": {},
   "outputs": [
    {
     "data": {
      "text/plain": [
       "0    EMEA-2022-152156\n",
       "1    EMEA-2022-152156\n",
       "2    AMER-2022-138688\n",
       "3    EMEA-2021-108966\n",
       "4    EMEA-2021-108966\n",
       "Name: Order ID, dtype: object"
      ]
     },
     "execution_count": 8,
     "metadata": {},
     "output_type": "execute_result"
    }
   ],
   "source": [
    "# Show Row ID\n",
    "df['Order ID'].head()"
   ]
  },
  {
   "cell_type": "code",
   "execution_count": 9,
   "metadata": {},
   "outputs": [
    {
     "data": {
      "text/plain": [
       "4985"
      ]
     },
     "execution_count": 9,
     "metadata": {},
     "output_type": "execute_result"
    }
   ],
   "source": [
    "# Check for duplicates\n",
    "df['Order ID'].duplicated().sum()"
   ]
  },
  {
   "cell_type": "code",
   "execution_count": 10,
   "metadata": {},
   "outputs": [],
   "source": [
    "# drop Row ID\n",
    "df.drop('Order ID', axis=1, inplace=True)"
   ]
  },
  {
   "cell_type": "markdown",
   "metadata": {},
   "source": [
    "#### Analysis\n",
    "- proses check value Row ID\n",
    "- setelah di check, tidak terdapat data duplicat\n",
    "- kemudian dihapus column:\n",
    "    - tidak terlalu dibutuhkan\n",
    "    - value dapat diganti dengan index"
   ]
  },
  {
   "cell_type": "markdown",
   "metadata": {},
   "source": [
    "### O*rder Date*"
   ]
  },
  {
   "cell_type": "code",
   "execution_count": 11,
   "metadata": {},
   "outputs": [
    {
     "data": {
      "text/plain": [
       "0     11/9/2022\n",
       "1     11/9/2022\n",
       "2     6/13/2022\n",
       "3    10/11/2021\n",
       "4    10/11/2021\n",
       "Name: Order Date, dtype: object"
      ]
     },
     "execution_count": 11,
     "metadata": {},
     "output_type": "execute_result"
    }
   ],
   "source": [
    "# Check columns\n",
    "df['Order Date'].head()"
   ]
  },
  {
   "cell_type": "code",
   "execution_count": 12,
   "metadata": {},
   "outputs": [
    {
     "data": {
      "text/plain": [
       "0      2022-11-09\n",
       "1      2022-11-09\n",
       "2      2022-06-13\n",
       "3      2021-10-11\n",
       "4      2021-10-11\n",
       "          ...    \n",
       "9989   2020-01-22\n",
       "9990   2023-02-27\n",
       "9991   2023-02-27\n",
       "9992   2023-02-27\n",
       "9993   2023-05-05\n",
       "Name: Order Date, Length: 9994, dtype: datetime64[ns]"
      ]
     },
     "execution_count": 12,
     "metadata": {},
     "output_type": "execute_result"
    }
   ],
   "source": [
    "# change dtype to datetime\n",
    "df['Order Date'] = pd.to_datetime(df['Order Date'])\n",
    "df['Order Date']"
   ]
  },
  {
   "cell_type": "markdown",
   "metadata": {},
   "source": [
    "#### Analysis\n",
    "- proses check jenis dtype object\n",
    "- ubah format ke datetime untuk mempermudah operasi tanggal dan waktu "
   ]
  },
  {
   "cell_type": "markdown",
   "metadata": {},
   "source": [
    "### *Date Key*"
   ]
  },
  {
   "cell_type": "code",
   "execution_count": 13,
   "metadata": {},
   "outputs": [
    {
     "data": {
      "text/plain": [
       "Index(['Row ID', 'Order Date', 'Date Key', 'Contact Name', 'Country', 'City',\n",
       "       'Region', 'Subregion', 'Customer', 'Customer ID', 'Industry', 'Segment',\n",
       "       'Product', 'License', 'Sales', 'Quantity', 'Discount', 'Profit'],\n",
       "      dtype='object')"
      ]
     },
     "execution_count": 13,
     "metadata": {},
     "output_type": "execute_result"
    }
   ],
   "source": [
    "df.columns"
   ]
  },
  {
   "cell_type": "code",
   "execution_count": 14,
   "metadata": {},
   "outputs": [],
   "source": [
    "# Check column\n",
    "# df['Date Key'].head()"
   ]
  },
  {
   "cell_type": "code",
   "execution_count": 15,
   "metadata": {},
   "outputs": [
    {
     "data": {
      "text/plain": [
       "0      2022-11-09\n",
       "1      2022-11-09\n",
       "2      2022-06-13\n",
       "3      2021-10-11\n",
       "4      2021-10-11\n",
       "          ...    \n",
       "9989   2020-01-22\n",
       "9990   2023-02-27\n",
       "9991   2023-02-27\n",
       "9992   2023-02-27\n",
       "9993   2023-05-05\n",
       "Name: Date Key, Length: 9994, dtype: datetime64[ns]"
      ]
     },
     "execution_count": 15,
     "metadata": {},
     "output_type": "execute_result"
    }
   ],
   "source": [
    "# change dtype to datetime\n",
    "df['Date Key'] = pd.to_datetime(df['Date Key'], format='%Y%m%d')\n",
    "df['Date Key']"
   ]
  },
  {
   "cell_type": "code",
   "execution_count": 16,
   "metadata": {},
   "outputs": [
    {
     "data": {
      "text/plain": [
       "False    9994\n",
       "Name: count, dtype: int64"
      ]
     },
     "execution_count": 16,
     "metadata": {},
     "output_type": "execute_result"
    }
   ],
   "source": [
    "# compare duplicates to Order Date\n",
    "df[df['Date Key'] == df['Order Date']].duplicated().value_counts()"
   ]
  },
  {
   "cell_type": "code",
   "execution_count": 17,
   "metadata": {},
   "outputs": [],
   "source": [
    "# drop column Date Key\n",
    "df.drop('Date Key',axis=1, inplace=True)"
   ]
  },
  {
   "cell_type": "markdown",
   "metadata": {},
   "source": [
    "#### Analysis\n",
    "- check value column \n",
    "- format ke datetime\n",
    "- compare column ke Order Date:\n",
    "    - tidak terdapat data yang berbeda\n",
    "- hapus column "
   ]
  },
  {
   "cell_type": "markdown",
   "metadata": {},
   "source": [
    "### *Region*"
   ]
  },
  {
   "cell_type": "code",
   "execution_count": 18,
   "metadata": {},
   "outputs": [
    {
     "data": {
      "text/plain": [
       "array(['EMEA', 'AMER', 'APJ'], dtype=object)"
      ]
     },
     "execution_count": 18,
     "metadata": {},
     "output_type": "execute_result"
    }
   ],
   "source": [
    "# Check value column\n",
    "df['Region'].unique()"
   ]
  },
  {
   "cell_type": "code",
   "execution_count": 19,
   "metadata": {},
   "outputs": [
    {
     "data": {
      "text/html": [
       "<div>\n",
       "<style scoped>\n",
       "    .dataframe tbody tr th:only-of-type {\n",
       "        vertical-align: middle;\n",
       "    }\n",
       "\n",
       "    .dataframe tbody tr th {\n",
       "        vertical-align: top;\n",
       "    }\n",
       "\n",
       "    .dataframe thead th {\n",
       "        text-align: right;\n",
       "    }\n",
       "</style>\n",
       "<table border=\"1\" class=\"dataframe\">\n",
       "  <thead>\n",
       "    <tr style=\"text-align: right;\">\n",
       "      <th></th>\n",
       "      <th>Row ID</th>\n",
       "      <th>Order Date</th>\n",
       "      <th>Contact Name</th>\n",
       "      <th>Country</th>\n",
       "      <th>City</th>\n",
       "      <th>Continent</th>\n",
       "      <th>Region</th>\n",
       "      <th>Subregion</th>\n",
       "      <th>Customer</th>\n",
       "      <th>Customer ID</th>\n",
       "      <th>Industry</th>\n",
       "      <th>Segment</th>\n",
       "      <th>Product</th>\n",
       "      <th>License</th>\n",
       "      <th>Sales</th>\n",
       "      <th>Quantity</th>\n",
       "      <th>Discount</th>\n",
       "      <th>Profit</th>\n",
       "    </tr>\n",
       "  </thead>\n",
       "  <tbody>\n",
       "    <tr>\n",
       "      <th>0</th>\n",
       "      <td>1</td>\n",
       "      <td>2022-11-09</td>\n",
       "      <td>Nathan Bell</td>\n",
       "      <td>Ireland</td>\n",
       "      <td>Dublin</td>\n",
       "      <td>EMEA</td>\n",
       "      <td>EMEA</td>\n",
       "      <td>UKIR</td>\n",
       "      <td>Chevron</td>\n",
       "      <td>1017</td>\n",
       "      <td>Energy</td>\n",
       "      <td>SMB</td>\n",
       "      <td>Marketing Suite</td>\n",
       "      <td>16GRM07R1K</td>\n",
       "      <td>261.9600</td>\n",
       "      <td>2</td>\n",
       "      <td>0.00</td>\n",
       "      <td>41.9136</td>\n",
       "    </tr>\n",
       "    <tr>\n",
       "      <th>1</th>\n",
       "      <td>2</td>\n",
       "      <td>2022-11-09</td>\n",
       "      <td>Nathan Bell</td>\n",
       "      <td>Ireland</td>\n",
       "      <td>Dublin</td>\n",
       "      <td>EMEA</td>\n",
       "      <td>EMEA</td>\n",
       "      <td>UKIR</td>\n",
       "      <td>Chevron</td>\n",
       "      <td>1017</td>\n",
       "      <td>Energy</td>\n",
       "      <td>SMB</td>\n",
       "      <td>FinanceHub</td>\n",
       "      <td>QLIW57KZUV</td>\n",
       "      <td>731.9400</td>\n",
       "      <td>3</td>\n",
       "      <td>0.00</td>\n",
       "      <td>219.5820</td>\n",
       "    </tr>\n",
       "    <tr>\n",
       "      <th>2</th>\n",
       "      <td>3</td>\n",
       "      <td>2022-06-13</td>\n",
       "      <td>Deirdre Bailey</td>\n",
       "      <td>United States</td>\n",
       "      <td>New York City</td>\n",
       "      <td>AMER</td>\n",
       "      <td>AMER</td>\n",
       "      <td>NAMER</td>\n",
       "      <td>Phillips 66</td>\n",
       "      <td>1056</td>\n",
       "      <td>Energy</td>\n",
       "      <td>Strategic</td>\n",
       "      <td>FinanceHub</td>\n",
       "      <td>JI6BVL70HQ</td>\n",
       "      <td>14.6200</td>\n",
       "      <td>2</td>\n",
       "      <td>0.00</td>\n",
       "      <td>6.8714</td>\n",
       "    </tr>\n",
       "    <tr>\n",
       "      <th>3</th>\n",
       "      <td>4</td>\n",
       "      <td>2021-10-11</td>\n",
       "      <td>Zoe Hodges</td>\n",
       "      <td>Germany</td>\n",
       "      <td>Stuttgart</td>\n",
       "      <td>EMEA</td>\n",
       "      <td>EMEA</td>\n",
       "      <td>EU-WEST</td>\n",
       "      <td>Royal Dutch Shell</td>\n",
       "      <td>1031</td>\n",
       "      <td>Energy</td>\n",
       "      <td>SMB</td>\n",
       "      <td>ContactMatcher</td>\n",
       "      <td>DE9GJKGD44</td>\n",
       "      <td>957.5775</td>\n",
       "      <td>5</td>\n",
       "      <td>0.45</td>\n",
       "      <td>-383.0310</td>\n",
       "    </tr>\n",
       "    <tr>\n",
       "      <th>4</th>\n",
       "      <td>5</td>\n",
       "      <td>2021-10-11</td>\n",
       "      <td>Zoe Hodges</td>\n",
       "      <td>Germany</td>\n",
       "      <td>Stuttgart</td>\n",
       "      <td>EMEA</td>\n",
       "      <td>EMEA</td>\n",
       "      <td>EU-WEST</td>\n",
       "      <td>Royal Dutch Shell</td>\n",
       "      <td>1031</td>\n",
       "      <td>Energy</td>\n",
       "      <td>SMB</td>\n",
       "      <td>Marketing Suite - Gold</td>\n",
       "      <td>OIF7NY23WD</td>\n",
       "      <td>22.3680</td>\n",
       "      <td>2</td>\n",
       "      <td>0.20</td>\n",
       "      <td>2.5164</td>\n",
       "    </tr>\n",
       "  </tbody>\n",
       "</table>\n",
       "</div>"
      ],
      "text/plain": [
       "   Row ID Order Date    Contact Name        Country           City Continent  \\\n",
       "0       1 2022-11-09     Nathan Bell        Ireland         Dublin      EMEA   \n",
       "1       2 2022-11-09     Nathan Bell        Ireland         Dublin      EMEA   \n",
       "2       3 2022-06-13  Deirdre Bailey  United States  New York City      AMER   \n",
       "3       4 2021-10-11      Zoe Hodges        Germany      Stuttgart      EMEA   \n",
       "4       5 2021-10-11      Zoe Hodges        Germany      Stuttgart      EMEA   \n",
       "\n",
       "  Region Subregion           Customer  Customer ID Industry    Segment  \\\n",
       "0   EMEA      UKIR            Chevron         1017   Energy        SMB   \n",
       "1   EMEA      UKIR            Chevron         1017   Energy        SMB   \n",
       "2   AMER     NAMER        Phillips 66         1056   Energy  Strategic   \n",
       "3   EMEA   EU-WEST  Royal Dutch Shell         1031   Energy        SMB   \n",
       "4   EMEA   EU-WEST  Royal Dutch Shell         1031   Energy        SMB   \n",
       "\n",
       "                  Product     License     Sales  Quantity  Discount    Profit  \n",
       "0         Marketing Suite  16GRM07R1K  261.9600         2      0.00   41.9136  \n",
       "1              FinanceHub  QLIW57KZUV  731.9400         3      0.00  219.5820  \n",
       "2              FinanceHub  JI6BVL70HQ   14.6200         2      0.00    6.8714  \n",
       "3          ContactMatcher  DE9GJKGD44  957.5775         5      0.45 -383.0310  \n",
       "4  Marketing Suite - Gold  OIF7NY23WD   22.3680         2      0.20    2.5164  "
      ]
     },
     "execution_count": 19,
     "metadata": {},
     "output_type": "execute_result"
    }
   ],
   "source": [
    "# rename column \n",
    "df.insert(5, column='Continent', value=df['Region'])\n",
    "df.head()"
   ]
  },
  {
   "cell_type": "code",
   "execution_count": 20,
   "metadata": {},
   "outputs": [],
   "source": [
    "# drop column Region\n",
    "df.drop('Region', axis=1, inplace=True)"
   ]
  },
  {
   "cell_type": "code",
   "execution_count": 21,
   "metadata": {},
   "outputs": [
    {
     "data": {
      "text/html": [
       "<div>\n",
       "<style scoped>\n",
       "    .dataframe tbody tr th:only-of-type {\n",
       "        vertical-align: middle;\n",
       "    }\n",
       "\n",
       "    .dataframe tbody tr th {\n",
       "        vertical-align: top;\n",
       "    }\n",
       "\n",
       "    .dataframe thead th {\n",
       "        text-align: right;\n",
       "    }\n",
       "</style>\n",
       "<table border=\"1\" class=\"dataframe\">\n",
       "  <thead>\n",
       "    <tr style=\"text-align: right;\">\n",
       "      <th></th>\n",
       "      <th>Row ID</th>\n",
       "      <th>Order Date</th>\n",
       "      <th>Contact Name</th>\n",
       "      <th>Country</th>\n",
       "      <th>City</th>\n",
       "      <th>Continent</th>\n",
       "      <th>Subregion</th>\n",
       "      <th>Customer</th>\n",
       "      <th>Customer ID</th>\n",
       "      <th>Industry</th>\n",
       "      <th>Segment</th>\n",
       "      <th>Product</th>\n",
       "      <th>License</th>\n",
       "      <th>Sales</th>\n",
       "      <th>Quantity</th>\n",
       "      <th>Discount</th>\n",
       "      <th>Profit</th>\n",
       "    </tr>\n",
       "  </thead>\n",
       "  <tbody>\n",
       "    <tr>\n",
       "      <th>0</th>\n",
       "      <td>1</td>\n",
       "      <td>2022-11-09</td>\n",
       "      <td>Nathan Bell</td>\n",
       "      <td>Ireland</td>\n",
       "      <td>Dublin</td>\n",
       "      <td>Europe</td>\n",
       "      <td>UKIR</td>\n",
       "      <td>Chevron</td>\n",
       "      <td>1017</td>\n",
       "      <td>Energy</td>\n",
       "      <td>SMB</td>\n",
       "      <td>Marketing Suite</td>\n",
       "      <td>16GRM07R1K</td>\n",
       "      <td>261.9600</td>\n",
       "      <td>2</td>\n",
       "      <td>0.00</td>\n",
       "      <td>41.9136</td>\n",
       "    </tr>\n",
       "    <tr>\n",
       "      <th>1</th>\n",
       "      <td>2</td>\n",
       "      <td>2022-11-09</td>\n",
       "      <td>Nathan Bell</td>\n",
       "      <td>Ireland</td>\n",
       "      <td>Dublin</td>\n",
       "      <td>Europe</td>\n",
       "      <td>UKIR</td>\n",
       "      <td>Chevron</td>\n",
       "      <td>1017</td>\n",
       "      <td>Energy</td>\n",
       "      <td>SMB</td>\n",
       "      <td>FinanceHub</td>\n",
       "      <td>QLIW57KZUV</td>\n",
       "      <td>731.9400</td>\n",
       "      <td>3</td>\n",
       "      <td>0.00</td>\n",
       "      <td>219.5820</td>\n",
       "    </tr>\n",
       "    <tr>\n",
       "      <th>2</th>\n",
       "      <td>3</td>\n",
       "      <td>2022-06-13</td>\n",
       "      <td>Deirdre Bailey</td>\n",
       "      <td>United States</td>\n",
       "      <td>New York City</td>\n",
       "      <td>America</td>\n",
       "      <td>NAMER</td>\n",
       "      <td>Phillips 66</td>\n",
       "      <td>1056</td>\n",
       "      <td>Energy</td>\n",
       "      <td>Strategic</td>\n",
       "      <td>FinanceHub</td>\n",
       "      <td>JI6BVL70HQ</td>\n",
       "      <td>14.6200</td>\n",
       "      <td>2</td>\n",
       "      <td>0.00</td>\n",
       "      <td>6.8714</td>\n",
       "    </tr>\n",
       "    <tr>\n",
       "      <th>3</th>\n",
       "      <td>4</td>\n",
       "      <td>2021-10-11</td>\n",
       "      <td>Zoe Hodges</td>\n",
       "      <td>Germany</td>\n",
       "      <td>Stuttgart</td>\n",
       "      <td>Europe</td>\n",
       "      <td>EU-WEST</td>\n",
       "      <td>Royal Dutch Shell</td>\n",
       "      <td>1031</td>\n",
       "      <td>Energy</td>\n",
       "      <td>SMB</td>\n",
       "      <td>ContactMatcher</td>\n",
       "      <td>DE9GJKGD44</td>\n",
       "      <td>957.5775</td>\n",
       "      <td>5</td>\n",
       "      <td>0.45</td>\n",
       "      <td>-383.0310</td>\n",
       "    </tr>\n",
       "    <tr>\n",
       "      <th>4</th>\n",
       "      <td>5</td>\n",
       "      <td>2021-10-11</td>\n",
       "      <td>Zoe Hodges</td>\n",
       "      <td>Germany</td>\n",
       "      <td>Stuttgart</td>\n",
       "      <td>Europe</td>\n",
       "      <td>EU-WEST</td>\n",
       "      <td>Royal Dutch Shell</td>\n",
       "      <td>1031</td>\n",
       "      <td>Energy</td>\n",
       "      <td>SMB</td>\n",
       "      <td>Marketing Suite - Gold</td>\n",
       "      <td>OIF7NY23WD</td>\n",
       "      <td>22.3680</td>\n",
       "      <td>2</td>\n",
       "      <td>0.20</td>\n",
       "      <td>2.5164</td>\n",
       "    </tr>\n",
       "  </tbody>\n",
       "</table>\n",
       "</div>"
      ],
      "text/plain": [
       "   Row ID Order Date    Contact Name        Country           City Continent  \\\n",
       "0       1 2022-11-09     Nathan Bell        Ireland         Dublin    Europe   \n",
       "1       2 2022-11-09     Nathan Bell        Ireland         Dublin    Europe   \n",
       "2       3 2022-06-13  Deirdre Bailey  United States  New York City   America   \n",
       "3       4 2021-10-11      Zoe Hodges        Germany      Stuttgart    Europe   \n",
       "4       5 2021-10-11      Zoe Hodges        Germany      Stuttgart    Europe   \n",
       "\n",
       "  Subregion           Customer  Customer ID Industry    Segment  \\\n",
       "0      UKIR            Chevron         1017   Energy        SMB   \n",
       "1      UKIR            Chevron         1017   Energy        SMB   \n",
       "2     NAMER        Phillips 66         1056   Energy  Strategic   \n",
       "3   EU-WEST  Royal Dutch Shell         1031   Energy        SMB   \n",
       "4   EU-WEST  Royal Dutch Shell         1031   Energy        SMB   \n",
       "\n",
       "                  Product     License     Sales  Quantity  Discount    Profit  \n",
       "0         Marketing Suite  16GRM07R1K  261.9600         2      0.00   41.9136  \n",
       "1              FinanceHub  QLIW57KZUV  731.9400         3      0.00  219.5820  \n",
       "2              FinanceHub  JI6BVL70HQ   14.6200         2      0.00    6.8714  \n",
       "3          ContactMatcher  DE9GJKGD44  957.5775         5      0.45 -383.0310  \n",
       "4  Marketing Suite - Gold  OIF7NY23WD   22.3680         2      0.20    2.5164  "
      ]
     },
     "execution_count": 21,
     "metadata": {},
     "output_type": "execute_result"
    }
   ],
   "source": [
    "# classification by continent\n",
    "def continent(i):\n",
    "    if i == 'EMEA':\n",
    "        return 'Europe'\n",
    "    elif i == 'AMER':\n",
    "        return 'America'\n",
    "    else:\n",
    "        return 'Asian'\n",
    "    \n",
    "df['Continent'] = df['Continent'].apply(continent)\n",
    "df.head()\n"
   ]
  },
  {
   "cell_type": "markdown",
   "metadata": {},
   "source": [
    "#### Analysis\n",
    "- Check column\n",
    "- buat column Continent dengan value Region\n",
    "- klasifikasikan berdasarkan 3 benua untuk mempermudah alisis tren dan pola yang khusus untuk setiap wilayah \n",
    "- hapus column Region"
   ]
  },
  {
   "cell_type": "markdown",
   "metadata": {},
   "source": [
    "### *Discount*"
   ]
  },
  {
   "cell_type": "code",
   "execution_count": 22,
   "metadata": {},
   "outputs": [],
   "source": [
    "# change value column to percentage\n",
    "df['Discount'] = df['Discount']*100 "
   ]
  },
  {
   "cell_type": "code",
   "execution_count": 23,
   "metadata": {},
   "outputs": [
    {
     "data": {
      "text/html": [
       "<div>\n",
       "<style scoped>\n",
       "    .dataframe tbody tr th:only-of-type {\n",
       "        vertical-align: middle;\n",
       "    }\n",
       "\n",
       "    .dataframe tbody tr th {\n",
       "        vertical-align: top;\n",
       "    }\n",
       "\n",
       "    .dataframe thead th {\n",
       "        text-align: right;\n",
       "    }\n",
       "</style>\n",
       "<table border=\"1\" class=\"dataframe\">\n",
       "  <thead>\n",
       "    <tr style=\"text-align: right;\">\n",
       "      <th></th>\n",
       "      <th>Row ID</th>\n",
       "      <th>Order Date</th>\n",
       "      <th>Contact Name</th>\n",
       "      <th>Country</th>\n",
       "      <th>City</th>\n",
       "      <th>Continent</th>\n",
       "      <th>Subregion</th>\n",
       "      <th>Customer</th>\n",
       "      <th>Customer ID</th>\n",
       "      <th>Industry</th>\n",
       "      <th>Segment</th>\n",
       "      <th>Product</th>\n",
       "      <th>License</th>\n",
       "      <th>Sales</th>\n",
       "      <th>Quantity</th>\n",
       "      <th>Discount</th>\n",
       "      <th>Sub_Discount</th>\n",
       "      <th>Profit</th>\n",
       "    </tr>\n",
       "  </thead>\n",
       "  <tbody>\n",
       "    <tr>\n",
       "      <th>0</th>\n",
       "      <td>1</td>\n",
       "      <td>2022-11-09</td>\n",
       "      <td>Nathan Bell</td>\n",
       "      <td>Ireland</td>\n",
       "      <td>Dublin</td>\n",
       "      <td>Europe</td>\n",
       "      <td>UKIR</td>\n",
       "      <td>Chevron</td>\n",
       "      <td>1017</td>\n",
       "      <td>Energy</td>\n",
       "      <td>SMB</td>\n",
       "      <td>Marketing Suite</td>\n",
       "      <td>16GRM07R1K</td>\n",
       "      <td>261.9600</td>\n",
       "      <td>2</td>\n",
       "      <td>0.0</td>\n",
       "      <td>Normal Price</td>\n",
       "      <td>41.9136</td>\n",
       "    </tr>\n",
       "    <tr>\n",
       "      <th>1</th>\n",
       "      <td>2</td>\n",
       "      <td>2022-11-09</td>\n",
       "      <td>Nathan Bell</td>\n",
       "      <td>Ireland</td>\n",
       "      <td>Dublin</td>\n",
       "      <td>Europe</td>\n",
       "      <td>UKIR</td>\n",
       "      <td>Chevron</td>\n",
       "      <td>1017</td>\n",
       "      <td>Energy</td>\n",
       "      <td>SMB</td>\n",
       "      <td>FinanceHub</td>\n",
       "      <td>QLIW57KZUV</td>\n",
       "      <td>731.9400</td>\n",
       "      <td>3</td>\n",
       "      <td>0.0</td>\n",
       "      <td>Normal Price</td>\n",
       "      <td>219.5820</td>\n",
       "    </tr>\n",
       "    <tr>\n",
       "      <th>2</th>\n",
       "      <td>3</td>\n",
       "      <td>2022-06-13</td>\n",
       "      <td>Deirdre Bailey</td>\n",
       "      <td>United States</td>\n",
       "      <td>New York City</td>\n",
       "      <td>America</td>\n",
       "      <td>NAMER</td>\n",
       "      <td>Phillips 66</td>\n",
       "      <td>1056</td>\n",
       "      <td>Energy</td>\n",
       "      <td>Strategic</td>\n",
       "      <td>FinanceHub</td>\n",
       "      <td>JI6BVL70HQ</td>\n",
       "      <td>14.6200</td>\n",
       "      <td>2</td>\n",
       "      <td>0.0</td>\n",
       "      <td>Normal Price</td>\n",
       "      <td>6.8714</td>\n",
       "    </tr>\n",
       "    <tr>\n",
       "      <th>3</th>\n",
       "      <td>4</td>\n",
       "      <td>2021-10-11</td>\n",
       "      <td>Zoe Hodges</td>\n",
       "      <td>Germany</td>\n",
       "      <td>Stuttgart</td>\n",
       "      <td>Europe</td>\n",
       "      <td>EU-WEST</td>\n",
       "      <td>Royal Dutch Shell</td>\n",
       "      <td>1031</td>\n",
       "      <td>Energy</td>\n",
       "      <td>SMB</td>\n",
       "      <td>ContactMatcher</td>\n",
       "      <td>DE9GJKGD44</td>\n",
       "      <td>957.5775</td>\n",
       "      <td>5</td>\n",
       "      <td>45.0</td>\n",
       "      <td>Middle</td>\n",
       "      <td>-383.0310</td>\n",
       "    </tr>\n",
       "    <tr>\n",
       "      <th>4</th>\n",
       "      <td>5</td>\n",
       "      <td>2021-10-11</td>\n",
       "      <td>Zoe Hodges</td>\n",
       "      <td>Germany</td>\n",
       "      <td>Stuttgart</td>\n",
       "      <td>Europe</td>\n",
       "      <td>EU-WEST</td>\n",
       "      <td>Royal Dutch Shell</td>\n",
       "      <td>1031</td>\n",
       "      <td>Energy</td>\n",
       "      <td>SMB</td>\n",
       "      <td>Marketing Suite - Gold</td>\n",
       "      <td>OIF7NY23WD</td>\n",
       "      <td>22.3680</td>\n",
       "      <td>2</td>\n",
       "      <td>20.0</td>\n",
       "      <td>Lower</td>\n",
       "      <td>2.5164</td>\n",
       "    </tr>\n",
       "  </tbody>\n",
       "</table>\n",
       "</div>"
      ],
      "text/plain": [
       "   Row ID Order Date    Contact Name        Country           City Continent  \\\n",
       "0       1 2022-11-09     Nathan Bell        Ireland         Dublin    Europe   \n",
       "1       2 2022-11-09     Nathan Bell        Ireland         Dublin    Europe   \n",
       "2       3 2022-06-13  Deirdre Bailey  United States  New York City   America   \n",
       "3       4 2021-10-11      Zoe Hodges        Germany      Stuttgart    Europe   \n",
       "4       5 2021-10-11      Zoe Hodges        Germany      Stuttgart    Europe   \n",
       "\n",
       "  Subregion           Customer  Customer ID Industry    Segment  \\\n",
       "0      UKIR            Chevron         1017   Energy        SMB   \n",
       "1      UKIR            Chevron         1017   Energy        SMB   \n",
       "2     NAMER        Phillips 66         1056   Energy  Strategic   \n",
       "3   EU-WEST  Royal Dutch Shell         1031   Energy        SMB   \n",
       "4   EU-WEST  Royal Dutch Shell         1031   Energy        SMB   \n",
       "\n",
       "                  Product     License     Sales  Quantity  Discount  \\\n",
       "0         Marketing Suite  16GRM07R1K  261.9600         2       0.0   \n",
       "1              FinanceHub  QLIW57KZUV  731.9400         3       0.0   \n",
       "2              FinanceHub  JI6BVL70HQ   14.6200         2       0.0   \n",
       "3          ContactMatcher  DE9GJKGD44  957.5775         5      45.0   \n",
       "4  Marketing Suite - Gold  OIF7NY23WD   22.3680         2      20.0   \n",
       "\n",
       "   Sub_Discount    Profit  \n",
       "0  Normal Price   41.9136  \n",
       "1  Normal Price  219.5820  \n",
       "2  Normal Price    6.8714  \n",
       "3        Middle -383.0310  \n",
       "4         Lower    2.5164  "
      ]
     },
     "execution_count": 23,
     "metadata": {},
     "output_type": "execute_result"
    }
   ],
   "source": [
    "# insert new column sub_discount\n",
    "def Sub_Discount(a):\n",
    "    if a <= 20 and a >= 1:\n",
    "        return 'Lower' \n",
    "    elif a > 20 and a <= 50:\n",
    "        return 'Middle'\n",
    "    elif a > 50 and a <= 99:\n",
    "        return 'Higher'\n",
    "    elif a == 100:\n",
    "        return 'Free'\n",
    "    elif a == 0:\n",
    "        return 'Normal Price'\n",
    "    else:\n",
    "        return 'Error'\n",
    "    \n",
    "df.insert(16, 'Sub_Discount', df['Discount'].apply(Sub_Discount))\n",
    "df.head()"
   ]
  },
  {
   "cell_type": "markdown",
   "metadata": {},
   "source": [
    "#### Analysis\n",
    "- format value column ke persen\n",
    "- buat column sub_discount untuk klasifikasi rentang discount\n",
    "    - untuk mempermudah analisis berdasarkan pengelompokan discount"
   ]
  },
  {
   "cell_type": "markdown",
   "metadata": {},
   "source": [
    "### Outlier Checking"
   ]
  },
  {
   "cell_type": "code",
   "execution_count": 24,
   "metadata": {},
   "outputs": [],
   "source": [
    "numerics = ['Discount', 'Profit', 'Quantity', 'Sales', 'Product']"
   ]
  },
  {
   "cell_type": "code",
   "execution_count": 25,
   "metadata": {},
   "outputs": [],
   "source": [
    "numer = df[numerics]\n",
    "Q1 = numer[['Discount', 'Profit', 'Quantity', 'Sales']].quantile(0.25)\n",
    "Q3 = numer[['Discount', 'Profit', 'Quantity', 'Sales']].quantile(0.75)\n",
    "IQR = Q3 - Q1\n",
    "lower_bound = Q1 - 1.5 * IQR\n",
    "upper_bound = Q3 + 1.5 * IQR\n"
   ]
  },
  {
   "cell_type": "code",
   "execution_count": 26,
   "metadata": {},
   "outputs": [],
   "source": [
    "outliers_positive = (df[['Discount', 'Profit', 'Quantity', 'Sales']] > upper_bound).any(axis=1)\n",
    "outliers_negative = (df[['Discount', 'Profit', 'Quantity', 'Sales']] < lower_bound).any(axis=1)\n"
   ]
  },
  {
   "cell_type": "code",
   "execution_count": 27,
   "metadata": {},
   "outputs": [],
   "source": [
    "df['Outlier_Type'] = 'No Outlier'\n",
    "df.loc[outliers_positive, 'Outlier_Type'] = 'Positive Outlier'\n",
    "df.loc[outliers_negative, 'Outlier_Type'] = 'Negative Outlier'\n"
   ]
  },
  {
   "cell_type": "code",
   "execution_count": 28,
   "metadata": {},
   "outputs": [
    {
     "name": "stdout",
     "output_type": "stream",
     "text": [
      "Percentage of each 'Outlier Type' for each 'Product':\n"
     ]
    },
    {
     "data": {
      "text/html": [
       "<div>\n",
       "<style scoped>\n",
       "    .dataframe tbody tr th:only-of-type {\n",
       "        vertical-align: middle;\n",
       "    }\n",
       "\n",
       "    .dataframe tbody tr th {\n",
       "        vertical-align: top;\n",
       "    }\n",
       "\n",
       "    .dataframe thead th {\n",
       "        text-align: right;\n",
       "    }\n",
       "</style>\n",
       "<table border=\"1\" class=\"dataframe\">\n",
       "  <thead>\n",
       "    <tr style=\"text-align: right;\">\n",
       "      <th>Outlier_Type</th>\n",
       "      <th>Negative Outlier</th>\n",
       "      <th>No Outlier</th>\n",
       "      <th>Positive Outlier</th>\n",
       "    </tr>\n",
       "    <tr>\n",
       "      <th>Product</th>\n",
       "      <th></th>\n",
       "      <th></th>\n",
       "      <th></th>\n",
       "    </tr>\n",
       "  </thead>\n",
       "  <tbody>\n",
       "    <tr>\n",
       "      <th>Alchemy</th>\n",
       "      <td>0</td>\n",
       "      <td>3</td>\n",
       "      <td>65</td>\n",
       "    </tr>\n",
       "    <tr>\n",
       "      <th>Big Ol Database</th>\n",
       "      <td>34</td>\n",
       "      <td>18</td>\n",
       "      <td>63</td>\n",
       "    </tr>\n",
       "    <tr>\n",
       "      <th>ChatBot Plugin</th>\n",
       "      <td>0</td>\n",
       "      <td>779</td>\n",
       "      <td>17</td>\n",
       "    </tr>\n",
       "    <tr>\n",
       "      <th>ContactMatcher</th>\n",
       "      <td>243</td>\n",
       "      <td>876</td>\n",
       "      <td>723</td>\n",
       "    </tr>\n",
       "    <tr>\n",
       "      <th>Data Smasher</th>\n",
       "      <td>3</td>\n",
       "      <td>601</td>\n",
       "      <td>171</td>\n",
       "    </tr>\n",
       "    <tr>\n",
       "      <th>FinanceHub</th>\n",
       "      <td>73</td>\n",
       "      <td>669</td>\n",
       "      <td>239</td>\n",
       "    </tr>\n",
       "    <tr>\n",
       "      <th>Marketing Suite</th>\n",
       "      <td>59</td>\n",
       "      <td>113</td>\n",
       "      <td>56</td>\n",
       "    </tr>\n",
       "    <tr>\n",
       "      <th>Marketing Suite - Gold</th>\n",
       "      <td>52</td>\n",
       "      <td>632</td>\n",
       "      <td>162</td>\n",
       "    </tr>\n",
       "    <tr>\n",
       "      <th>OneView</th>\n",
       "      <td>42</td>\n",
       "      <td>296</td>\n",
       "      <td>128</td>\n",
       "    </tr>\n",
       "    <tr>\n",
       "      <th>SaaS Connector Pack</th>\n",
       "      <td>37</td>\n",
       "      <td>738</td>\n",
       "      <td>182</td>\n",
       "    </tr>\n",
       "    <tr>\n",
       "      <th>SaaS Connector Pack - Gold</th>\n",
       "      <td>0</td>\n",
       "      <td>226</td>\n",
       "      <td>28</td>\n",
       "    </tr>\n",
       "    <tr>\n",
       "      <th>Site Analytics</th>\n",
       "      <td>52</td>\n",
       "      <td>573</td>\n",
       "      <td>264</td>\n",
       "    </tr>\n",
       "    <tr>\n",
       "      <th>Storage</th>\n",
       "      <td>0</td>\n",
       "      <td>211</td>\n",
       "      <td>6</td>\n",
       "    </tr>\n",
       "    <tr>\n",
       "      <th>Support</th>\n",
       "      <td>9</td>\n",
       "      <td>1408</td>\n",
       "      <td>143</td>\n",
       "    </tr>\n",
       "  </tbody>\n",
       "</table>\n",
       "</div>"
      ],
      "text/plain": [
       "Outlier_Type                Negative Outlier  No Outlier  Positive Outlier\n",
       "Product                                                                   \n",
       "Alchemy                                    0           3                65\n",
       "Big Ol Database                           34          18                63\n",
       "ChatBot Plugin                             0         779                17\n",
       "ContactMatcher                           243         876               723\n",
       "Data Smasher                               3         601               171\n",
       "FinanceHub                                73         669               239\n",
       "Marketing Suite                           59         113                56\n",
       "Marketing Suite - Gold                    52         632               162\n",
       "OneView                                   42         296               128\n",
       "SaaS Connector Pack                       37         738               182\n",
       "SaaS Connector Pack - Gold                 0         226                28\n",
       "Site Analytics                            52         573               264\n",
       "Storage                                    0         211                 6\n",
       "Support                                    9        1408               143"
      ]
     },
     "execution_count": 28,
     "metadata": {},
     "output_type": "execute_result"
    }
   ],
   "source": [
    "outlier_percentage = df.groupby(['Product', 'Outlier_Type']).size().unstack(fill_value=0)\n",
    "outlier_percentage_= outlier_percentage.div(outlier_percentage.sum(axis=1), axis=0) * 100\n",
    "\n",
    "print(\"Percentage of each 'Outlier Type' for each 'Product':\")\n",
    "outlier_percentage"
   ]
  },
  {
   "cell_type": "markdown",
   "metadata": {},
   "source": [
    "output\n",
    "\n",
    "   - Setiap produk, tabel menunjukkan distribusi persentase outlier negatif, tidak ada outlier, dan outlier positif pada kolom numerik yang dipilih.\n",
    "   - Produk `'ChatBot Plugin'` dan `'Storage'` memiliki persentase 'Tanpa Outlier' yang tinggi, yang menunjukkan kinerja yang relatif stabil.\n",
    "   - `'Alchemy'` memiliki persentase 'Positif Outlier' yang signifikan, yang menunjukkan potensi penjualan berkinerja tinggi dalam kasus tertentu.\n",
    "   - `'Big Ol Database'` memiliki persentase outlier negatif tertinggi, yaitu sekitar 29,57%, yang menunjukkan kinerja buruk atau ketidakstabilan dalam beberapa kasus penjualan produk."
   ]
  },
  {
   "cell_type": "markdown",
   "metadata": {},
   "source": [
    "# **4. Exploratory Data Analysis**"
   ]
  },
  {
   "cell_type": "markdown",
   "metadata": {},
   "source": [
    "### 4.1 Deskripsi Data"
   ]
  },
  {
   "cell_type": "code",
   "execution_count": 29,
   "metadata": {},
   "outputs": [
    {
     "name": "stdout",
     "output_type": "stream",
     "text": [
      "<class 'pandas.core.frame.DataFrame'>\n",
      "RangeIndex: 9994 entries, 0 to 9993\n",
      "Data columns (total 19 columns):\n",
      " #   Column        Non-Null Count  Dtype         \n",
      "---  ------        --------------  -----         \n",
      " 0   Row ID        9994 non-null   int64         \n",
      " 1   Order Date    9994 non-null   datetime64[ns]\n",
      " 2   Contact Name  9994 non-null   object        \n",
      " 3   Country       9994 non-null   object        \n",
      " 4   City          9994 non-null   object        \n",
      " 5   Continent     9994 non-null   object        \n",
      " 6   Subregion     9994 non-null   object        \n",
      " 7   Customer      9994 non-null   object        \n",
      " 8   Customer ID   9994 non-null   int64         \n",
      " 9   Industry      9994 non-null   object        \n",
      " 10  Segment       9994 non-null   object        \n",
      " 11  Product       9994 non-null   object        \n",
      " 12  License       9994 non-null   object        \n",
      " 13  Sales         9994 non-null   float64       \n",
      " 14  Quantity      9994 non-null   int64         \n",
      " 15  Discount      9994 non-null   float64       \n",
      " 16  Sub_Discount  9994 non-null   object        \n",
      " 17  Profit        9994 non-null   float64       \n",
      " 18  Outlier_Type  9994 non-null   object        \n",
      "dtypes: datetime64[ns](1), float64(3), int64(3), object(12)\n",
      "memory usage: 1.4+ MB\n"
     ]
    }
   ],
   "source": [
    "# data information after cleaning\n",
    "df.info()"
   ]
  },
  {
   "cell_type": "code",
   "execution_count": 30,
   "metadata": {},
   "outputs": [
    {
     "data": {
      "text/plain": [
       "(9994, 19)"
      ]
     },
     "execution_count": 30,
     "metadata": {},
     "output_type": "execute_result"
    }
   ],
   "source": [
    "# view rows and column\n",
    "df.shape"
   ]
  },
  {
   "cell_type": "code",
   "execution_count": 31,
   "metadata": {},
   "outputs": [
    {
     "data": {
      "text/html": [
       "<div>\n",
       "<style scoped>\n",
       "    .dataframe tbody tr th:only-of-type {\n",
       "        vertical-align: middle;\n",
       "    }\n",
       "\n",
       "    .dataframe tbody tr th {\n",
       "        vertical-align: top;\n",
       "    }\n",
       "\n",
       "    .dataframe thead th {\n",
       "        text-align: right;\n",
       "    }\n",
       "</style>\n",
       "<table border=\"1\" class=\"dataframe\">\n",
       "  <thead>\n",
       "    <tr style=\"text-align: right;\">\n",
       "      <th></th>\n",
       "      <th>Row ID</th>\n",
       "      <th>Order Date</th>\n",
       "      <th>Customer ID</th>\n",
       "      <th>Sales</th>\n",
       "      <th>Quantity</th>\n",
       "      <th>Discount</th>\n",
       "      <th>Profit</th>\n",
       "    </tr>\n",
       "  </thead>\n",
       "  <tbody>\n",
       "    <tr>\n",
       "      <th>count</th>\n",
       "      <td>9994.000000</td>\n",
       "      <td>9994</td>\n",
       "      <td>9994.000000</td>\n",
       "      <td>9994.000000</td>\n",
       "      <td>9994.000000</td>\n",
       "      <td>9994.000000</td>\n",
       "      <td>9994.000000</td>\n",
       "    </tr>\n",
       "    <tr>\n",
       "      <th>mean</th>\n",
       "      <td>4997.500000</td>\n",
       "      <td>2022-05-01 00:07:12.259355648</td>\n",
       "      <td>1049.771963</td>\n",
       "      <td>229.858001</td>\n",
       "      <td>3.789574</td>\n",
       "      <td>15.620272</td>\n",
       "      <td>28.656896</td>\n",
       "    </tr>\n",
       "    <tr>\n",
       "      <th>min</th>\n",
       "      <td>1.000000</td>\n",
       "      <td>2020-01-04 00:00:00</td>\n",
       "      <td>1001.000000</td>\n",
       "      <td>0.444000</td>\n",
       "      <td>1.000000</td>\n",
       "      <td>0.000000</td>\n",
       "      <td>-6599.978000</td>\n",
       "    </tr>\n",
       "    <tr>\n",
       "      <th>25%</th>\n",
       "      <td>2499.250000</td>\n",
       "      <td>2021-05-23 00:00:00</td>\n",
       "      <td>1024.000000</td>\n",
       "      <td>17.280000</td>\n",
       "      <td>2.000000</td>\n",
       "      <td>0.000000</td>\n",
       "      <td>1.728750</td>\n",
       "    </tr>\n",
       "    <tr>\n",
       "      <th>50%</th>\n",
       "      <td>4997.500000</td>\n",
       "      <td>2022-06-27 00:00:00</td>\n",
       "      <td>1049.000000</td>\n",
       "      <td>54.490000</td>\n",
       "      <td>3.000000</td>\n",
       "      <td>20.000000</td>\n",
       "      <td>8.666500</td>\n",
       "    </tr>\n",
       "    <tr>\n",
       "      <th>75%</th>\n",
       "      <td>7495.750000</td>\n",
       "      <td>2023-05-15 00:00:00</td>\n",
       "      <td>1076.000000</td>\n",
       "      <td>209.940000</td>\n",
       "      <td>5.000000</td>\n",
       "      <td>20.000000</td>\n",
       "      <td>29.364000</td>\n",
       "    </tr>\n",
       "    <tr>\n",
       "      <th>max</th>\n",
       "      <td>9994.000000</td>\n",
       "      <td>2023-12-31 00:00:00</td>\n",
       "      <td>1101.000000</td>\n",
       "      <td>22638.480000</td>\n",
       "      <td>14.000000</td>\n",
       "      <td>80.000000</td>\n",
       "      <td>8399.976000</td>\n",
       "    </tr>\n",
       "    <tr>\n",
       "      <th>std</th>\n",
       "      <td>2885.163629</td>\n",
       "      <td>NaN</td>\n",
       "      <td>29.719388</td>\n",
       "      <td>623.245101</td>\n",
       "      <td>2.225110</td>\n",
       "      <td>20.645197</td>\n",
       "      <td>234.260108</td>\n",
       "    </tr>\n",
       "  </tbody>\n",
       "</table>\n",
       "</div>"
      ],
      "text/plain": [
       "            Row ID                     Order Date  Customer ID         Sales  \\\n",
       "count  9994.000000                           9994  9994.000000   9994.000000   \n",
       "mean   4997.500000  2022-05-01 00:07:12.259355648  1049.771963    229.858001   \n",
       "min       1.000000            2020-01-04 00:00:00  1001.000000      0.444000   \n",
       "25%    2499.250000            2021-05-23 00:00:00  1024.000000     17.280000   \n",
       "50%    4997.500000            2022-06-27 00:00:00  1049.000000     54.490000   \n",
       "75%    7495.750000            2023-05-15 00:00:00  1076.000000    209.940000   \n",
       "max    9994.000000            2023-12-31 00:00:00  1101.000000  22638.480000   \n",
       "std    2885.163629                            NaN    29.719388    623.245101   \n",
       "\n",
       "          Quantity     Discount       Profit  \n",
       "count  9994.000000  9994.000000  9994.000000  \n",
       "mean      3.789574    15.620272    28.656896  \n",
       "min       1.000000     0.000000 -6599.978000  \n",
       "25%       2.000000     0.000000     1.728750  \n",
       "50%       3.000000    20.000000     8.666500  \n",
       "75%       5.000000    20.000000    29.364000  \n",
       "max      14.000000    80.000000  8399.976000  \n",
       "std       2.225110    20.645197   234.260108  "
      ]
     },
     "execution_count": 31,
     "metadata": {},
     "output_type": "execute_result"
    }
   ],
   "source": [
    "# data describe after cleaning\n",
    "df.describe()"
   ]
  },
  {
   "cell_type": "markdown",
   "metadata": {},
   "source": [
    "### 4.2 Visualisasi Data\n",
    "\n",
    "-- membantu dalam memahami apakah ada hubungan linier atau korelasi antar variabel."
   ]
  },
  {
   "cell_type": "code",
   "execution_count": 32,
   "metadata": {},
   "outputs": [],
   "source": [
    "df1 = df"
   ]
  },
  {
   "cell_type": "code",
   "execution_count": 33,
   "metadata": {},
   "outputs": [],
   "source": [
    "df1['Month'] = df1['Order Date'].dt.month"
   ]
  },
  {
   "cell_type": "code",
   "execution_count": 34,
   "metadata": {},
   "outputs": [
    {
     "ename": "KeyError",
     "evalue": "'Year'",
     "output_type": "error",
     "traceback": [
      "\u001b[1;31m---------------------------------------------------------------------------\u001b[0m",
      "\u001b[1;31mKeyError\u001b[0m                                  Traceback (most recent call last)",
      "Cell \u001b[1;32mIn[34], line 1\u001b[0m\n\u001b[1;32m----> 1\u001b[0m df1 \u001b[38;5;241m=\u001b[39m df1\u001b[38;5;241m.\u001b[39mgroupby(by\u001b[38;5;241m=\u001b[39m[\u001b[38;5;124m'\u001b[39m\u001b[38;5;124mYear\u001b[39m\u001b[38;5;124m'\u001b[39m, \u001b[38;5;124m'\u001b[39m\u001b[38;5;124mMonth\u001b[39m\u001b[38;5;124m'\u001b[39m])[[\u001b[38;5;124m'\u001b[39m\u001b[38;5;124mSales\u001b[39m\u001b[38;5;124m'\u001b[39m]]\u001b[38;5;241m.\u001b[39msum()\u001b[38;5;241m.\u001b[39mreset_index()\n\u001b[0;32m      2\u001b[0m df1\n",
      "File \u001b[1;32mc:\\Users\\USER\\anaconda3\\Lib\\site-packages\\pandas\\core\\frame.py:9170\u001b[0m, in \u001b[0;36mDataFrame.groupby\u001b[1;34m(self, by, axis, level, as_index, sort, group_keys, observed, dropna)\u001b[0m\n\u001b[0;32m   9167\u001b[0m \u001b[38;5;28;01mif\u001b[39;00m level \u001b[38;5;129;01mis\u001b[39;00m \u001b[38;5;28;01mNone\u001b[39;00m \u001b[38;5;129;01mand\u001b[39;00m by \u001b[38;5;129;01mis\u001b[39;00m \u001b[38;5;28;01mNone\u001b[39;00m:\n\u001b[0;32m   9168\u001b[0m     \u001b[38;5;28;01mraise\u001b[39;00m \u001b[38;5;167;01mTypeError\u001b[39;00m(\u001b[38;5;124m\"\u001b[39m\u001b[38;5;124mYou have to supply one of \u001b[39m\u001b[38;5;124m'\u001b[39m\u001b[38;5;124mby\u001b[39m\u001b[38;5;124m'\u001b[39m\u001b[38;5;124m and \u001b[39m\u001b[38;5;124m'\u001b[39m\u001b[38;5;124mlevel\u001b[39m\u001b[38;5;124m'\u001b[39m\u001b[38;5;124m\"\u001b[39m)\n\u001b[1;32m-> 9170\u001b[0m \u001b[38;5;28;01mreturn\u001b[39;00m DataFrameGroupBy(\n\u001b[0;32m   9171\u001b[0m     obj\u001b[38;5;241m=\u001b[39m\u001b[38;5;28mself\u001b[39m,\n\u001b[0;32m   9172\u001b[0m     keys\u001b[38;5;241m=\u001b[39mby,\n\u001b[0;32m   9173\u001b[0m     axis\u001b[38;5;241m=\u001b[39maxis,\n\u001b[0;32m   9174\u001b[0m     level\u001b[38;5;241m=\u001b[39mlevel,\n\u001b[0;32m   9175\u001b[0m     as_index\u001b[38;5;241m=\u001b[39mas_index,\n\u001b[0;32m   9176\u001b[0m     sort\u001b[38;5;241m=\u001b[39msort,\n\u001b[0;32m   9177\u001b[0m     group_keys\u001b[38;5;241m=\u001b[39mgroup_keys,\n\u001b[0;32m   9178\u001b[0m     observed\u001b[38;5;241m=\u001b[39mobserved,\n\u001b[0;32m   9179\u001b[0m     dropna\u001b[38;5;241m=\u001b[39mdropna,\n\u001b[0;32m   9180\u001b[0m )\n",
      "File \u001b[1;32mc:\\Users\\USER\\anaconda3\\Lib\\site-packages\\pandas\\core\\groupby\\groupby.py:1329\u001b[0m, in \u001b[0;36mGroupBy.__init__\u001b[1;34m(self, obj, keys, axis, level, grouper, exclusions, selection, as_index, sort, group_keys, observed, dropna)\u001b[0m\n\u001b[0;32m   1326\u001b[0m \u001b[38;5;28mself\u001b[39m\u001b[38;5;241m.\u001b[39mdropna \u001b[38;5;241m=\u001b[39m dropna\n\u001b[0;32m   1328\u001b[0m \u001b[38;5;28;01mif\u001b[39;00m grouper \u001b[38;5;129;01mis\u001b[39;00m \u001b[38;5;28;01mNone\u001b[39;00m:\n\u001b[1;32m-> 1329\u001b[0m     grouper, exclusions, obj \u001b[38;5;241m=\u001b[39m get_grouper(\n\u001b[0;32m   1330\u001b[0m         obj,\n\u001b[0;32m   1331\u001b[0m         keys,\n\u001b[0;32m   1332\u001b[0m         axis\u001b[38;5;241m=\u001b[39maxis,\n\u001b[0;32m   1333\u001b[0m         level\u001b[38;5;241m=\u001b[39mlevel,\n\u001b[0;32m   1334\u001b[0m         sort\u001b[38;5;241m=\u001b[39msort,\n\u001b[0;32m   1335\u001b[0m         observed\u001b[38;5;241m=\u001b[39m\u001b[38;5;28;01mFalse\u001b[39;00m \u001b[38;5;28;01mif\u001b[39;00m observed \u001b[38;5;129;01mis\u001b[39;00m lib\u001b[38;5;241m.\u001b[39mno_default \u001b[38;5;28;01melse\u001b[39;00m observed,\n\u001b[0;32m   1336\u001b[0m         dropna\u001b[38;5;241m=\u001b[39m\u001b[38;5;28mself\u001b[39m\u001b[38;5;241m.\u001b[39mdropna,\n\u001b[0;32m   1337\u001b[0m     )\n\u001b[0;32m   1339\u001b[0m \u001b[38;5;28;01mif\u001b[39;00m observed \u001b[38;5;129;01mis\u001b[39;00m lib\u001b[38;5;241m.\u001b[39mno_default:\n\u001b[0;32m   1340\u001b[0m     \u001b[38;5;28;01mif\u001b[39;00m \u001b[38;5;28many\u001b[39m(ping\u001b[38;5;241m.\u001b[39m_passed_categorical \u001b[38;5;28;01mfor\u001b[39;00m ping \u001b[38;5;129;01min\u001b[39;00m grouper\u001b[38;5;241m.\u001b[39mgroupings):\n",
      "File \u001b[1;32mc:\\Users\\USER\\anaconda3\\Lib\\site-packages\\pandas\\core\\groupby\\grouper.py:1043\u001b[0m, in \u001b[0;36mget_grouper\u001b[1;34m(obj, key, axis, level, sort, observed, validate, dropna)\u001b[0m\n\u001b[0;32m   1041\u001b[0m         in_axis, level, gpr \u001b[38;5;241m=\u001b[39m \u001b[38;5;28;01mFalse\u001b[39;00m, gpr, \u001b[38;5;28;01mNone\u001b[39;00m\n\u001b[0;32m   1042\u001b[0m     \u001b[38;5;28;01melse\u001b[39;00m:\n\u001b[1;32m-> 1043\u001b[0m         \u001b[38;5;28;01mraise\u001b[39;00m \u001b[38;5;167;01mKeyError\u001b[39;00m(gpr)\n\u001b[0;32m   1044\u001b[0m \u001b[38;5;28;01melif\u001b[39;00m \u001b[38;5;28misinstance\u001b[39m(gpr, Grouper) \u001b[38;5;129;01mand\u001b[39;00m gpr\u001b[38;5;241m.\u001b[39mkey \u001b[38;5;129;01mis\u001b[39;00m \u001b[38;5;129;01mnot\u001b[39;00m \u001b[38;5;28;01mNone\u001b[39;00m:\n\u001b[0;32m   1045\u001b[0m     \u001b[38;5;66;03m# Add key to exclusions\u001b[39;00m\n\u001b[0;32m   1046\u001b[0m     exclusions\u001b[38;5;241m.\u001b[39madd(gpr\u001b[38;5;241m.\u001b[39mkey)\n",
      "\u001b[1;31mKeyError\u001b[0m: 'Year'"
     ]
    }
   ],
   "source": [
    "df1 = df1.groupby(by=['Year', 'Month'])[['Sales']].sum().reset_index()\n",
    "df1"
   ]
  },
  {
   "cell_type": "code",
   "execution_count": null,
   "metadata": {},
   "outputs": [
    {
     "name": "stderr",
     "output_type": "stream",
     "text": [
      "C:\\Users\\USER\\AppData\\Local\\Temp\\ipykernel_6760\\2680399043.py:13: UserWarning: The figure layout has changed to tight\n",
      "  plt.tight_layout()\n",
      "C:\\Users\\USER\\AppData\\Local\\Temp\\ipykernel_6760\\2680399043.py:13: UserWarning: The figure layout has changed to tight\n",
      "  plt.tight_layout()\n",
      "C:\\Users\\USER\\AppData\\Local\\Temp\\ipykernel_6760\\2680399043.py:13: UserWarning: The figure layout has changed to tight\n",
      "  plt.tight_layout()\n"
     ]
    },
    {
     "data": {
      "image/png": "[encoded data removed]",
      "text/plain": [
       "<Figure size 1500x500 with 4 Axes>"
      ]
     },
     "metadata": {},
     "output_type": "display_data"
    }
   ],
   "source": [
    "plt.figure(figsize=(15,5))\n",
    "plotnumber=1\n",
    "\n",
    "for i in range(2020, 2024):\n",
    "    plt.subplot(2,2,plotnumber)\n",
    "    a = sns.lineplot(df1[df1['Year'] == i], x='Month', \n",
    "                y='Sales', ci=0,estimator='sum')\n",
    "\n",
    "    for i in a.containers:\n",
    "        a.bar_label(i)\n",
    "    plt.title(f'Trend Sales by Order Year {i}')\n",
    "    plt.xticks(df1['Month'].unique())\n",
    "    plt.tight_layout()\n",
    "    plotnumber +=1"
   ]
  },
  {
   "cell_type": "markdown",
   "metadata": {},
   "source": [
    "insight:\n",
    "- pada bulan Desember yang konsisten dalam penjualan setiap tahunnya,bisa diartikan bahwa banyak bisnis menghadapi lonjakan dalam aktivitas mereka karena liburan, promosi akhir tahun, dan peningkatan transaksi. juga ada kemungkinan adanya promosi khusus dan diskon pada bulan Desember dari perusahan.\n",
    "- terdapat pola yang sama pada bulan September, ada kemungkinan bahwa prioritas dan kebutuhan bisnis bisa berubah dari waktu ke waktu, yang dapat membantu perusahaan mengelola lonjakan dalam volume bisnis.\n",
    "- sedangkan tiap bulan januari relatif menurun, hal ini mungkin bahwa adanya batasan anggaran untuk investasi baru, yang dapat mengakibatkan penundaan dalam demand pasar terhadap produk."
   ]
  },
  {
   "cell_type": "markdown",
   "metadata": {},
   "source": [
    "### *Country*"
   ]
  },
  {
   "cell_type": "code",
   "execution_count": null,
   "metadata": {},
   "outputs": [
    {
     "data": {
      "text/plain": [
       "Text(0.5, 1.0, 'Sales by Continent')"
      ]
     },
     "execution_count": 69,
     "metadata": {},
     "output_type": "execute_result"
    },
    {
     "data": {
      "image/png": "[encoded data removed]",
      "text/plain": [
       "<Figure size 640x480 with 1 Axes>"
      ]
     },
     "metadata": {},
     "output_type": "display_data"
    }
   ],
   "source": [
    "plt.figure()\n",
    "a = sns.barplot(df, x='Continent', \n",
    "            y='Sales', ci=0,estimator='sum')\n",
    "\n",
    "for i in a.containers:\n",
    "    a.bar_label(i)\n",
    "plt.title('Sales by Continent')"
   ]
  },
  {
   "cell_type": "markdown",
   "metadata": {},
   "source": [
    "insight\n",
    "- Benua Eropa memilki kontribusi penjualan tertinggi dibandingkan benua lainnya\n",
    "- terdapat Benua Asia yang memiliki kontribusi yang lebih rendah.\n",
    "- strategi promosi khusus untuk meningkatkan minat pelanggan di wilayah benua Asia.\n",
    "- sehingga dapat mengarahkan strategi penjualan lebih lanjut di seluruh benua."
   ]
  },
  {
   "cell_type": "code",
   "execution_count": null,
   "metadata": {},
   "outputs": [
    {
     "data": {
      "text/plain": [
       "Text(0.5, 1.0, 'Sales by Continent')"
      ]
     },
     "execution_count": 70,
     "metadata": {},
     "output_type": "execute_result"
    },
    {
     "data": {
      "image/png": "[encoded data removed]",
      "text/plain": [
       "<Figure size 640x480 with 1 Axes>"
      ]
     },
     "metadata": {},
     "output_type": "display_data"
    }
   ],
   "source": [
    "plt.figure()\n",
    "a = sns.barplot(df, x='Continent', \n",
    "            y='Sales', ci=0,estimator='median')\n",
    "\n",
    "for i in a.containers:\n",
    "    a.bar_label(i)\n",
    "plt.title('Sales by Continent')"
   ]
  },
  {
   "cell_type": "code",
   "execution_count": null,
   "metadata": {},
   "outputs": [
    {
     "data": {
      "text/html": [
       "<div>\n",
       "<style scoped>\n",
       "    .dataframe tbody tr th:only-of-type {\n",
       "        vertical-align: middle;\n",
       "    }\n",
       "\n",
       "    .dataframe tbody tr th {\n",
       "        vertical-align: top;\n",
       "    }\n",
       "\n",
       "    .dataframe thead th {\n",
       "        text-align: right;\n",
       "    }\n",
       "</style>\n",
       "<table border=\"1\" class=\"dataframe\">\n",
       "  <thead>\n",
       "    <tr style=\"text-align: right;\">\n",
       "      <th>Continent</th>\n",
       "      <th>America</th>\n",
       "      <th>Asian</th>\n",
       "      <th>Europe</th>\n",
       "    </tr>\n",
       "    <tr>\n",
       "      <th>Subregion</th>\n",
       "      <th></th>\n",
       "      <th></th>\n",
       "      <th></th>\n",
       "    </tr>\n",
       "  </thead>\n",
       "  <tbody>\n",
       "    <tr>\n",
       "      <th>ANZ</th>\n",
       "      <td>NaN</td>\n",
       "      <td>84949.6230</td>\n",
       "      <td>NaN</td>\n",
       "    </tr>\n",
       "    <tr>\n",
       "      <th>APAC</th>\n",
       "      <td>NaN</td>\n",
       "      <td>106771.2120</td>\n",
       "      <td>NaN</td>\n",
       "    </tr>\n",
       "    <tr>\n",
       "      <th>EU</th>\n",
       "      <td>NaN</td>\n",
       "      <td>NaN</td>\n",
       "      <td>32114.610</td>\n",
       "    </tr>\n",
       "    <tr>\n",
       "      <th>EU-EAST</th>\n",
       "      <td>NaN</td>\n",
       "      <td>NaN</td>\n",
       "      <td>76118.114</td>\n",
       "    </tr>\n",
       "    <tr>\n",
       "      <th>EU-WEST</th>\n",
       "      <td>NaN</td>\n",
       "      <td>NaN</td>\n",
       "      <td>384065.614</td>\n",
       "    </tr>\n",
       "    <tr>\n",
       "      <th>IND</th>\n",
       "      <td>NaN</td>\n",
       "      <td>53555.3600</td>\n",
       "      <td>NaN</td>\n",
       "    </tr>\n",
       "    <tr>\n",
       "      <th>JAPN</th>\n",
       "      <td>NaN</td>\n",
       "      <td>170188.0458</td>\n",
       "      <td>NaN</td>\n",
       "    </tr>\n",
       "    <tr>\n",
       "      <th>LATAM</th>\n",
       "      <td>241520.7030</td>\n",
       "      <td>NaN</td>\n",
       "      <td>NaN</td>\n",
       "    </tr>\n",
       "    <tr>\n",
       "      <th>MEA</th>\n",
       "      <td>NaN</td>\n",
       "      <td>NaN</td>\n",
       "      <td>76793.696</td>\n",
       "    </tr>\n",
       "    <tr>\n",
       "      <th>NAMER</th>\n",
       "      <td>596328.9015</td>\n",
       "      <td>NaN</td>\n",
       "      <td>NaN</td>\n",
       "    </tr>\n",
       "    <tr>\n",
       "      <th>NOR</th>\n",
       "      <td>NaN</td>\n",
       "      <td>NaN</td>\n",
       "      <td>127326.960</td>\n",
       "    </tr>\n",
       "    <tr>\n",
       "      <th>UKIR</th>\n",
       "      <td>NaN</td>\n",
       "      <td>NaN</td>\n",
       "      <td>347468.021</td>\n",
       "    </tr>\n",
       "  </tbody>\n",
       "</table>\n",
       "</div>"
      ],
      "text/plain": [
       "Continent      America        Asian      Europe\n",
       "Subregion                                      \n",
       "ANZ                NaN   84949.6230         NaN\n",
       "APAC               NaN  106771.2120         NaN\n",
       "EU                 NaN          NaN   32114.610\n",
       "EU-EAST            NaN          NaN   76118.114\n",
       "EU-WEST            NaN          NaN  384065.614\n",
       "IND                NaN   53555.3600         NaN\n",
       "JAPN               NaN  170188.0458         NaN\n",
       "LATAM      241520.7030          NaN         NaN\n",
       "MEA                NaN          NaN   76793.696\n",
       "NAMER      596328.9015          NaN         NaN\n",
       "NOR                NaN          NaN  127326.960\n",
       "UKIR               NaN          NaN  347468.021"
      ]
     },
     "execution_count": 71,
     "metadata": {},
     "output_type": "execute_result"
    }
   ],
   "source": [
    "Continent_pivot = pd.pivot_table(data=df,index='Subregion',\n",
    "                        columns='Continent',\n",
    "                        values='Sales',aggfunc='sum')\n",
    "Continent_pivot"
   ]
  },
  {
   "cell_type": "code",
   "execution_count": null,
   "metadata": {},
   "outputs": [
    {
     "data": {
      "image/png": "[encoded data removed]",
      "text/plain": [
       "<Figure size 1500x500 with 3 Axes>"
      ]
     },
     "metadata": {},
     "output_type": "display_data"
    }
   ],
   "source": [
    "fig, ax = plt.subplots(1, 3, figsize=(15, 5), sharey=True)\n",
    "\n",
    "for i, continent in enumerate(df['Continent'].unique()):\n",
    "    Continent_pivot = df[df['Continent'] == continent]\n",
    "    sns.barplot(ax=ax[i], data=Continent_pivot, x='Subregion', y='Sales', ci=0, estimator='median')\n",
    "    ax[i].set_title(continent)\n",
    "    \n",
    "    for p in ax[i].patches:\n",
    "        ax[i].annotate(f\"{p.get_height():.0f}\", (p.get_x() + p.get_width() / 2., p.get_height()), \n",
    "                       ha='center',\n",
    "                       va='center',\n",
    "                       xytext=(0, 5), textcoords='offset points')\n",
    "\n",
    "plt.show()"
   ]
  },
  {
   "cell_type": "markdown",
   "metadata": {},
   "source": [
    "insight\n",
    "- subregion di EUROPE  memiliki penjualan lebih tinggi dibandingkan dengan subregion di benua lain, memungkinkan adanya peluang untuk mengelola  strategi pemasaran di subregion tersebut  dengan tujuan meningkatkan penjualan.\n",
    "- penjualan yang lebih agresif mungkin diperlukan untuk mendeteksi sales pada subregion ASIAN yaitu country JAPN,ANZ"
   ]
  },
  {
   "cell_type": "markdown",
   "metadata": {},
   "source": [
    "### *Industry*"
   ]
  },
  {
   "cell_type": "code",
   "execution_count": null,
   "metadata": {},
   "outputs": [
    {
     "data": {
      "text/plain": [
       "array(['Energy', 'Finance', 'Tech', 'Healthcare', 'Manufacturing',\n",
       "       'Retail', 'Consumer Products', 'Misc', 'Transportation',\n",
       "       'Communications'], dtype=object)"
      ]
     },
     "execution_count": 73,
     "metadata": {},
     "output_type": "execute_result"
    }
   ],
   "source": [
    "df['Industry'].unique()"
   ]
  },
  {
   "cell_type": "code",
   "execution_count": null,
   "metadata": {},
   "outputs": [
    {
     "data": {
      "image/png": "[encoded data removed]",
      "text/plain": [
       "<Figure size 1000x500 with 1 Axes>"
      ]
     },
     "metadata": {},
     "output_type": "display_data"
    }
   ],
   "source": [
    "plt.figure(figsize=(10,5))\n",
    "a = sns.barplot(data=df, x='Industry', y='Sales', ci=0, estimator='sum')\n",
    "\n",
    "plt.xticks(rotation= 90)\n",
    "\n",
    "# Add labels on top of bars\n",
    "for i in a.containers:\n",
    "    a.bar_label(i)\n",
    "plt.xticks(rotation=45)\n",
    "plt.title('Sales by Industry')\n",
    "plt.show()\n"
   ]
  },
  {
   "cell_type": "markdown",
   "metadata": {},
   "source": [
    "insight\n",
    "- dari sektor industri, Finance memiliki kontribusi signifikan terhadap income\n",
    "- sebaliknya penjualan terendah industri Misc"
   ]
  },
  {
   "cell_type": "code",
   "execution_count": null,
   "metadata": {},
   "outputs": [],
   "source": [
    "ipc= df.groupby(['Industry', 'Product']).size().reset_index(name='Order Count')"
   ]
  },
  {
   "cell_type": "code",
   "execution_count": null,
   "metadata": {},
   "outputs": [
    {
     "name": "stderr",
     "output_type": "stream",
     "text": [
      "C:\\Users\\USER\\AppData\\Local\\Temp\\ipykernel_6760\\450488944.py:1: DeprecationWarning: DataFrameGroupBy.apply operated on the grouping columns. This behavior is deprecated, and in a future version of pandas the grouping columns will be excluded from the operation. Either pass `include_groups=False` to exclude the groupings or explicitly select the grouping columns after groupby to silence this warning.\n",
      "  top3_op = ipc.groupby('Industry').apply(lambda x: x.nlargest(3, 'Order Count')).reset_index(drop=True)\n"
     ]
    }
   ],
   "source": [
    "top3_op = ipc.groupby('Industry').apply(lambda x: x.nlargest(3, 'Order Count')).reset_index(drop=True)"
   ]
  },
  {
   "cell_type": "code",
   "execution_count": null,
   "metadata": {},
   "outputs": [
    {
     "name": "stdout",
     "output_type": "stream",
     "text": [
      "Top 3 Most Ordered Products Across Industries:\n"
     ]
    },
    {
     "data": {
      "text/html": [
       "<div>\n",
       "<style scoped>\n",
       "    .dataframe tbody tr th:only-of-type {\n",
       "        vertical-align: middle;\n",
       "    }\n",
       "\n",
       "    .dataframe tbody tr th {\n",
       "        vertical-align: top;\n",
       "    }\n",
       "\n",
       "    .dataframe thead th {\n",
       "        text-align: right;\n",
       "    }\n",
       "</style>\n",
       "<table border=\"1\" class=\"dataframe\">\n",
       "  <thead>\n",
       "    <tr style=\"text-align: right;\">\n",
       "      <th></th>\n",
       "      <th>Industry</th>\n",
       "      <th>Product</th>\n",
       "      <th>Order Count</th>\n",
       "    </tr>\n",
       "  </thead>\n",
       "  <tbody>\n",
       "    <tr>\n",
       "      <th>0</th>\n",
       "      <td>Communications</td>\n",
       "      <td>ContactMatcher</td>\n",
       "      <td>112</td>\n",
       "    </tr>\n",
       "    <tr>\n",
       "      <th>1</th>\n",
       "      <td>Communications</td>\n",
       "      <td>Support</td>\n",
       "      <td>93</td>\n",
       "    </tr>\n",
       "    <tr>\n",
       "      <th>2</th>\n",
       "      <td>Communications</td>\n",
       "      <td>SaaS Connector Pack</td>\n",
       "      <td>69</td>\n",
       "    </tr>\n",
       "    <tr>\n",
       "      <th>3</th>\n",
       "      <td>Consumer Products</td>\n",
       "      <td>ContactMatcher</td>\n",
       "      <td>187</td>\n",
       "    </tr>\n",
       "    <tr>\n",
       "      <th>4</th>\n",
       "      <td>Consumer Products</td>\n",
       "      <td>Support</td>\n",
       "      <td>137</td>\n",
       "    </tr>\n",
       "    <tr>\n",
       "      <th>5</th>\n",
       "      <td>Consumer Products</td>\n",
       "      <td>FinanceHub</td>\n",
       "      <td>110</td>\n",
       "    </tr>\n",
       "    <tr>\n",
       "      <th>6</th>\n",
       "      <td>Energy</td>\n",
       "      <td>ContactMatcher</td>\n",
       "      <td>236</td>\n",
       "    </tr>\n",
       "    <tr>\n",
       "      <th>7</th>\n",
       "      <td>Energy</td>\n",
       "      <td>Support</td>\n",
       "      <td>214</td>\n",
       "    </tr>\n",
       "    <tr>\n",
       "      <th>8</th>\n",
       "      <td>Energy</td>\n",
       "      <td>FinanceHub</td>\n",
       "      <td>131</td>\n",
       "    </tr>\n",
       "    <tr>\n",
       "      <th>9</th>\n",
       "      <td>Finance</td>\n",
       "      <td>ContactMatcher</td>\n",
       "      <td>402</td>\n",
       "    </tr>\n",
       "    <tr>\n",
       "      <th>10</th>\n",
       "      <td>Finance</td>\n",
       "      <td>Support</td>\n",
       "      <td>328</td>\n",
       "    </tr>\n",
       "    <tr>\n",
       "      <th>11</th>\n",
       "      <td>Finance</td>\n",
       "      <td>FinanceHub</td>\n",
       "      <td>219</td>\n",
       "    </tr>\n",
       "    <tr>\n",
       "      <th>12</th>\n",
       "      <td>Healthcare</td>\n",
       "      <td>ContactMatcher</td>\n",
       "      <td>192</td>\n",
       "    </tr>\n",
       "    <tr>\n",
       "      <th>13</th>\n",
       "      <td>Healthcare</td>\n",
       "      <td>Support</td>\n",
       "      <td>162</td>\n",
       "    </tr>\n",
       "    <tr>\n",
       "      <th>14</th>\n",
       "      <td>Healthcare</td>\n",
       "      <td>FinanceHub</td>\n",
       "      <td>112</td>\n",
       "    </tr>\n",
       "    <tr>\n",
       "      <th>15</th>\n",
       "      <td>Manufacturing</td>\n",
       "      <td>ContactMatcher</td>\n",
       "      <td>233</td>\n",
       "    </tr>\n",
       "    <tr>\n",
       "      <th>16</th>\n",
       "      <td>Manufacturing</td>\n",
       "      <td>Support</td>\n",
       "      <td>210</td>\n",
       "    </tr>\n",
       "    <tr>\n",
       "      <th>17</th>\n",
       "      <td>Manufacturing</td>\n",
       "      <td>FinanceHub</td>\n",
       "      <td>113</td>\n",
       "    </tr>\n",
       "    <tr>\n",
       "      <th>18</th>\n",
       "      <td>Misc</td>\n",
       "      <td>Support</td>\n",
       "      <td>22</td>\n",
       "    </tr>\n",
       "    <tr>\n",
       "      <th>19</th>\n",
       "      <td>Misc</td>\n",
       "      <td>ContactMatcher</td>\n",
       "      <td>19</td>\n",
       "    </tr>\n",
       "    <tr>\n",
       "      <th>20</th>\n",
       "      <td>Misc</td>\n",
       "      <td>FinanceHub</td>\n",
       "      <td>10</td>\n",
       "    </tr>\n",
       "    <tr>\n",
       "      <th>21</th>\n",
       "      <td>Retail</td>\n",
       "      <td>ContactMatcher</td>\n",
       "      <td>178</td>\n",
       "    </tr>\n",
       "    <tr>\n",
       "      <th>22</th>\n",
       "      <td>Retail</td>\n",
       "      <td>Support</td>\n",
       "      <td>141</td>\n",
       "    </tr>\n",
       "    <tr>\n",
       "      <th>23</th>\n",
       "      <td>Retail</td>\n",
       "      <td>SaaS Connector Pack</td>\n",
       "      <td>101</td>\n",
       "    </tr>\n",
       "    <tr>\n",
       "      <th>24</th>\n",
       "      <td>Tech</td>\n",
       "      <td>ContactMatcher</td>\n",
       "      <td>240</td>\n",
       "    </tr>\n",
       "    <tr>\n",
       "      <th>25</th>\n",
       "      <td>Tech</td>\n",
       "      <td>Support</td>\n",
       "      <td>195</td>\n",
       "    </tr>\n",
       "    <tr>\n",
       "      <th>26</th>\n",
       "      <td>Tech</td>\n",
       "      <td>Site Analytics</td>\n",
       "      <td>121</td>\n",
       "    </tr>\n",
       "    <tr>\n",
       "      <th>27</th>\n",
       "      <td>Transportation</td>\n",
       "      <td>Support</td>\n",
       "      <td>58</td>\n",
       "    </tr>\n",
       "    <tr>\n",
       "      <th>28</th>\n",
       "      <td>Transportation</td>\n",
       "      <td>ContactMatcher</td>\n",
       "      <td>43</td>\n",
       "    </tr>\n",
       "    <tr>\n",
       "      <th>29</th>\n",
       "      <td>Transportation</td>\n",
       "      <td>FinanceHub</td>\n",
       "      <td>39</td>\n",
       "    </tr>\n",
       "  </tbody>\n",
       "</table>\n",
       "</div>"
      ],
      "text/plain": [
       "             Industry              Product  Order Count\n",
       "0      Communications       ContactMatcher          112\n",
       "1      Communications              Support           93\n",
       "2      Communications  SaaS Connector Pack           69\n",
       "3   Consumer Products       ContactMatcher          187\n",
       "4   Consumer Products              Support          137\n",
       "5   Consumer Products           FinanceHub          110\n",
       "6              Energy       ContactMatcher          236\n",
       "7              Energy              Support          214\n",
       "8              Energy           FinanceHub          131\n",
       "9             Finance       ContactMatcher          402\n",
       "10            Finance              Support          328\n",
       "11            Finance           FinanceHub          219\n",
       "12         Healthcare       ContactMatcher          192\n",
       "13         Healthcare              Support          162\n",
       "14         Healthcare           FinanceHub          112\n",
       "15      Manufacturing       ContactMatcher          233\n",
       "16      Manufacturing              Support          210\n",
       "17      Manufacturing           FinanceHub          113\n",
       "18               Misc              Support           22\n",
       "19               Misc       ContactMatcher           19\n",
       "20               Misc           FinanceHub           10\n",
       "21             Retail       ContactMatcher          178\n",
       "22             Retail              Support          141\n",
       "23             Retail  SaaS Connector Pack          101\n",
       "24               Tech       ContactMatcher          240\n",
       "25               Tech              Support          195\n",
       "26               Tech       Site Analytics          121\n",
       "27     Transportation              Support           58\n",
       "28     Transportation       ContactMatcher           43\n",
       "29     Transportation           FinanceHub           39"
      ]
     },
     "execution_count": 122,
     "metadata": {},
     "output_type": "execute_result"
    }
   ],
   "source": [
    "print(\"Top 3 Most Ordered Products Across Industries:\")\n",
    "top3_op[['Industry', 'Product', 'Order Count']]\n"
   ]
  },
  {
   "cell_type": "code",
   "execution_count": null,
   "metadata": {},
   "outputs": [
    {
     "data": {
      "text/plain": [
       "<Axes: >"
      ]
     },
     "execution_count": 77,
     "metadata": {},
     "output_type": "execute_result"
    },
    {
     "data": {
      "image/png": "[encoded data removed]",
      "text/plain": [
       "<Figure size 640x480 with 2 Axes>"
      ]
     },
     "metadata": {},
     "output_type": "display_data"
    }
   ],
   "source": [
    "df1 = df.corr(numeric_only=True)\n",
    "sns.heatmap(data=df1,annot=True)"
   ]
  },
  {
   "cell_type": "markdown",
   "metadata": {},
   "source": [
    "insight\n",
    "- berdasarkan korelasi diatas, sales dengan profit memilki relasi yang moderat (cukup kuat). bisa diartikan bahwa semakin tinggi angka penjualan(sales) maka akan meningkatkan revenue.\n",
    "- jika dibandingkan sales dengan quantity memiliki korelasi lemah. artinya banyaknya quantity tidak terlalu mempengaruhi tingkat penjualan kemungkinan ada faktor lain, misalnya harga yang tidak disebutkan dalam dataset\n",
    "- sedangkan discount dengan profit memilki korelasi 2 arah, bahwa diskon dapat menjadi alat komunikasi yang kuat bagi customer namun tidak langsung mempengaruhi tingkat profitabilitas. "
   ]
  },
  {
   "cell_type": "markdown",
   "metadata": {},
   "source": [
    "### *Segment*"
   ]
  },
  {
   "cell_type": "code",
   "execution_count": null,
   "metadata": {},
   "outputs": [
    {
     "data": {
      "text/plain": [
       "array(['SMB', 'Strategic', 'Enterprise'], dtype=object)"
      ]
     },
     "execution_count": 78,
     "metadata": {},
     "output_type": "execute_result"
    }
   ],
   "source": [
    "df['Segment'].unique()"
   ]
  },
  {
   "cell_type": "code",
   "execution_count": null,
   "metadata": {},
   "outputs": [
    {
     "data": {
      "image/png": "[encoded data removed]",
      "text/plain": [
       "<Figure size 800x500 with 1 Axes>"
      ]
     },
     "metadata": {},
     "output_type": "display_data"
    }
   ],
   "source": [
    "plt.figure(figsize=(8,5))\n",
    "a = sns.barplot(data=df, x='Segment', y='Sales', ci=0, estimator='median')\n",
    "\n",
    "plt.xticks(rotation= 90)\n",
    "\n",
    "# Add labels on top of bars\n",
    "for i in a.containers:\n",
    "    a.bar_label(i)\n",
    "\n",
    "plt.title('Sales by Segment')\n",
    "plt.show()\n"
   ]
  },
  {
   "cell_type": "code",
   "execution_count": null,
   "metadata": {},
   "outputs": [
    {
     "name": "stdout",
     "output_type": "stream",
     "text": [
      "      Product  Sales\n",
      "0         SMB  53.72\n",
      "1   Strategic  56.54\n",
      "2  Enterprise  52.44\n"
     ]
    }
   ],
   "source": [
    "products = [p.get_text() for p in a.get_xticklabels()]\n",
    "\n",
    "# Mengambil nilai penjualan dari tinggi batang pada barplot\n",
    "sales = [p.get_height() for p in a.patches]\n",
    "\n",
    "# Membuat DataFrame\n",
    "sales_df = pd.DataFrame({'Product': products, 'Sales': sales})\n",
    "print(sales_df)"
   ]
  },
  {
   "cell_type": "markdown",
   "metadata": {},
   "source": []
  },
  {
   "cell_type": "code",
   "execution_count": null,
   "metadata": {},
   "outputs": [
    {
     "name": "stdout",
     "output_type": "stream",
     "text": [
      "Industry    Communications  Consumer Products  Energy  Finance  Healthcare  \\\n",
      "Segment                                                                      \n",
      "Enterprise              90                 95     231      281         137   \n",
      "SMB                    278                624     585     1171         679   \n",
      "Strategic              225                302     500      675         233   \n",
      "\n",
      "Industry    Manufacturing  Misc  Retail  Tech  Transportation  \n",
      "Segment                                                        \n",
      "Enterprise            321    68     214   256              90  \n",
      "SMB                   576    32     490   559             197  \n",
      "Strategic             325     7     268   421              64  \n"
     ]
    }
   ],
   "source": [
    "contingency_table = pd.crosstab(df['Segment'], df['Industry'])\n",
    "print(contingency_table)"
   ]
  },
  {
   "cell_type": "code",
   "execution_count": null,
   "metadata": {},
   "outputs": [
    {
     "name": "stdout",
     "output_type": "stream",
     "text": [
      "Chi-square Statistic: 494.8971242103395\n",
      "P-value: 1.2331800783605093e-93\n"
     ]
    }
   ],
   "source": [
    "from scipy.stats import chi2_contingency\n",
    "\n",
    "chi2, p, dof, expected = chi2_contingency(contingency_table)\n",
    "print(\"Chi-square Statistic:\", chi2)\n",
    "print(\"P-value:\", p)\n"
   ]
  },
  {
   "cell_type": "markdown",
   "metadata": {},
   "source": [
    "### Product Analysis"
   ]
  },
  {
   "cell_type": "code",
   "execution_count": null,
   "metadata": {},
   "outputs": [
    {
     "data": {
      "text/plain": [
       "Product\n",
       "ContactMatcher                1842\n",
       "Support                       1560\n",
       "FinanceHub                     981\n",
       "SaaS Connector Pack            957\n",
       "Site Analytics                 889\n",
       "Marketing Suite - Gold         846\n",
       "ChatBot Plugin                 796\n",
       "Data Smasher                   775\n",
       "OneView                        466\n",
       "SaaS Connector Pack - Gold     254\n",
       "Marketing Suite                228\n",
       "Storage                        217\n",
       "Big Ol Database                115\n",
       "Alchemy                         68\n",
       "Name: count, dtype: int64"
      ]
     },
     "execution_count": 82,
     "metadata": {},
     "output_type": "execute_result"
    }
   ],
   "source": [
    "df['Product'].value_counts()"
   ]
  },
  {
   "cell_type": "code",
   "execution_count": null,
   "metadata": {},
   "outputs": [
    {
     "data": {
      "image/png": "[encoded data removed]",
      "text/plain": [
       "<Figure size 2000x500 with 14 Axes>"
      ]
     },
     "metadata": {},
     "output_type": "display_data"
    }
   ],
   "source": [
    "df_grouped = df.groupby('Product')['Sales'].sum().reset_index()\n",
    "df_grouped_sorted = df_grouped.sort_values(by='Sales', ascending=False)\n",
    "\n",
    "num_products = df_grouped_sorted.shape[0]\n",
    "fig, ax = plt.subplots(1, num_products, figsize=(20, 5))\n",
    "\n",
    "# Plotting barplot for each product\n",
    "for i, (product, sales) in enumerate(zip(df_grouped_sorted['Product'], df_grouped_sorted['Sales'])):\n",
    "    sns.barplot(ax=ax[i], data=df[df['Product'] == product], \n",
    "                x='Product', y='Sales', \n",
    "                ci=None, estimator=sum, color='skyblue')\n",
    "    ax[i].set_xlabel('')\n",
    "    ax[i].set_ylabel('Sales')\n",
    "    ax[i].set_ylim(0, df_grouped_sorted['Sales'].max() * 1.1)  \n",
    "    ax[i].tick_params(axis='x', labelrotation=45)  \n",
    "    for p in ax[i].patches:\n",
    "        ax[i].annotate(f\"{p.get_height():.0f}\", (p.get_x() + p.get_width() / 2., p.get_height()), \n",
    "                       ha='center', va='center', \n",
    "                       xytext=(0, 5), color='red',\n",
    "                       textcoords='offset points')\n",
    "plt.tight_layout()\n",
    "plt.show()"
   ]
  },
  {
   "cell_type": "markdown",
   "metadata": {},
   "source": [
    "insight\n",
    "- Contacmatcher menjadi indikasi produk terpopuler didalam market\n",
    "- dilihat dari tingkatan sales, terdapat beberapa produk seperti: 'FinanceHub', 'ContactMatcher', 'Site Analytics' memiliki penjualan yang jauh lebih tinggi daripada yang lain, sementara produk: 'ChatBot Plugin','SaaS Connector Pack - Gold', 'Storage' memiliki penjualan yang lebih rendah.\n",
    "- artinya perlu dilakukan evaluasi untuk meningkatkan penjualan terhadap produk yang salesnya rendah, misalnya: pemasaran yang lebih agresif."
   ]
  },
  {
   "cell_type": "markdown",
   "metadata": {},
   "source": [
    "insight\n",
    "- Produk ContactMatcher adalah produk yang paling banyak terjual\n",
    "- menggambarkan pola perbandingan relatif dari sales antar produk\n",
    "- terdapat beberapa produk dengan salesh yang rendah, dari sini bisa dilakukan evaluasi market,pricing strategy, untuk meningkatkan efesiensi marketing pada produk tersebut. "
   ]
  },
  {
   "cell_type": "code",
   "execution_count": null,
   "metadata": {},
   "outputs": [
    {
     "data": {
      "text/plain": [
       "Text(0.5, 1.0, 'Distribution Sales by Product')"
      ]
     },
     "execution_count": 112,
     "metadata": {},
     "output_type": "execute_result"
    },
    {
     "data": {
      "image/png": "[encoded data removed]",
      "text/plain": [
       "<Figure size 640x480 with 1 Axes>"
      ]
     },
     "metadata": {},
     "output_type": "display_data"
    }
   ],
   "source": [
    "# checking distribution outliers product by sales\n",
    "sns.boxplot(df, y='Product',x='Sales')\n",
    "plt.title('Distribution Sales by Product')"
   ]
  },
  {
   "cell_type": "code",
   "execution_count": null,
   "metadata": {},
   "outputs": [
    {
     "data": {
      "text/plain": [
       "count     1167.000000\n",
       "mean      1266.052104\n",
       "std       1419.107804\n",
       "min        499.168000\n",
       "25%        631.960000\n",
       "50%        866.400000\n",
       "75%       1346.502500\n",
       "max      22638.480000\n",
       "Name: Sales, dtype: float64"
      ]
     },
     "execution_count": 86,
     "metadata": {},
     "output_type": "execute_result"
    }
   ],
   "source": [
    "Q1 = df['Sales'].quantile(0.25)\n",
    "Q3 = df['Sales'].quantile(0.75)\n",
    "IQR = Q3 - Q1\n",
    "\n",
    "df[(df['Sales'] < (Q1 - 1.5 * IQR)) | (df['Sales'] > (Q3 + 1.5 * IQR))]['Sales'].describe()"
   ]
  },
  {
   "cell_type": "code",
   "execution_count": null,
   "metadata": {},
   "outputs": [
    {
     "data": {
      "text/plain": [
       "1477482.8049"
      ]
     },
     "execution_count": 87,
     "metadata": {},
     "output_type": "execute_result"
    }
   ],
   "source": [
    "sales_outliers = df[(df['Sales'] < Q1 - 1.5 * IQR) | (df['Sales'] > Q3 + 1.5 * IQR)]\n",
    "sales_outliers['Sales'].sum()"
   ]
  },
  {
   "cell_type": "markdown",
   "metadata": {},
   "source": []
  },
  {
   "cell_type": "code",
   "execution_count": null,
   "metadata": {},
   "outputs": [
    {
     "data": {
      "text/plain": [
       "Text(0.5, 1.0, 'Sales check before drop outliers')"
      ]
     },
     "execution_count": 114,
     "metadata": {},
     "output_type": "execute_result"
    },
    {
     "data": {
      "image/png": "[encoded data removed]",
      "text/plain": [
       "<Figure size 640x480 with 1 Axes>"
      ]
     },
     "metadata": {},
     "output_type": "display_data"
    }
   ],
   "source": [
    "sns.boxplot(sales_outliers, x='Sales')\n",
    "plt.title('Sales check before drop outliers')"
   ]
  },
  {
   "cell_type": "code",
   "execution_count": null,
   "metadata": {},
   "outputs": [
    {
     "data": {
      "text/plain": [
       "(9994,)"
      ]
     },
     "execution_count": 89,
     "metadata": {},
     "output_type": "execute_result"
    }
   ],
   "source": [
    "df['Sales'].shape"
   ]
  },
  {
   "cell_type": "code",
   "execution_count": null,
   "metadata": {},
   "outputs": [
    {
     "data": {
      "text/plain": [
       "(9991,)"
      ]
     },
     "execution_count": 90,
     "metadata": {},
     "output_type": "execute_result"
    }
   ],
   "source": [
    "df.drop(index=df[(df['Sales'] > 12000)].index, inplace=True)\n",
    "df['Sales'].shape"
   ]
  },
  {
   "cell_type": "code",
   "execution_count": null,
   "metadata": {},
   "outputs": [
    {
     "data": {
      "text/plain": [
       "Text(0.5, 1.0, 'Sales check after drop outliers')"
      ]
     },
     "execution_count": 115,
     "metadata": {},
     "output_type": "execute_result"
    },
    {
     "data": {
      "image/png": "[encoded data removed]",
      "text/plain": [
       "<Figure size 640x480 with 1 Axes>"
      ]
     },
     "metadata": {},
     "output_type": "display_data"
    }
   ],
   "source": [
    "sns.boxplot(df, x='Sales')\n",
    "plt.title('Sales check after drop outliers')"
   ]
  },
  {
   "cell_type": "markdown",
   "metadata": {},
   "source": [
    "### Profit Analysis"
   ]
  },
  {
   "cell_type": "code",
   "execution_count": null,
   "metadata": {},
   "outputs": [
    {
     "data": {
      "text/plain": [
       "0       16.00\n",
       "1       30.00\n",
       "2       47.00\n",
       "3      -40.00\n",
       "4       11.25\n",
       "        ...  \n",
       "9989    16.25\n",
       "9990    17.00\n",
       "9991     7.50\n",
       "9992    45.00\n",
       "9993    30.00\n",
       "Length: 9991, dtype: float64"
      ]
     },
     "execution_count": 93,
     "metadata": {},
     "output_type": "execute_result"
    }
   ],
   "source": [
    "df_Profit = df['Profit'] / df['Sales'] *100\n",
    "df_Profit"
   ]
  },
  {
   "cell_type": "code",
   "execution_count": null,
   "metadata": {},
   "outputs": [
    {
     "data": {
      "text/plain": [
       "1870"
      ]
     },
     "execution_count": 94,
     "metadata": {},
     "output_type": "execute_result"
    }
   ],
   "source": [
    "df_Profit[df_Profit < 0].count()"
   ]
  },
  {
   "cell_type": "code",
   "execution_count": null,
   "metadata": {},
   "outputs": [
    {
     "data": {
      "text/plain": [
       "-116856.78664799253"
      ]
     },
     "execution_count": 95,
     "metadata": {},
     "output_type": "execute_result"
    }
   ],
   "source": [
    "rugi = df_Profit[df_Profit < 0].sum()\n",
    "rugi"
   ]
  },
  {
   "cell_type": "code",
   "execution_count": null,
   "metadata": {},
   "outputs": [
    {
     "data": {
      "text/plain": [
       "237010.52801120447"
      ]
     },
     "execution_count": 96,
     "metadata": {},
     "output_type": "execute_result"
    }
   ],
   "source": [
    "untung = df_Profit[df_Profit >= 0].sum()\n",
    "untung"
   ]
  },
  {
   "cell_type": "code",
   "execution_count": null,
   "metadata": {},
   "outputs": [
    {
     "data": {
      "text/plain": [
       "120153.74136321194"
      ]
     },
     "execution_count": 97,
     "metadata": {},
     "output_type": "execute_result"
    }
   ],
   "source": [
    "untung + rugi"
   ]
  },
  {
   "cell_type": "code",
   "execution_count": null,
   "metadata": {},
   "outputs": [],
   "source": [
    "# add new colum Ratio Profit\n",
    "df.insert(19,'Ratio Profit',(df['Profit']/df['Sales']*100))"
   ]
  },
  {
   "cell_type": "code",
   "execution_count": null,
   "metadata": {},
   "outputs": [
    {
     "data": {
      "text/plain": [
       "Ratio Profit\n",
       " 35.000000     431\n",
       " 47.000000     324\n",
       " 33.750000     285\n",
       " 26.000000     258\n",
       " 46.000000     251\n",
       "              ... \n",
       " 33.000000       1\n",
       "-107.500000      1\n",
       "-27.941176       1\n",
       "-10.588235       1\n",
       " 14.444444       1\n",
       "Name: count, Length: 524, dtype: int64"
      ]
     },
     "execution_count": 99,
     "metadata": {},
     "output_type": "execute_result"
    }
   ],
   "source": [
    "df['Ratio Profit'].value_counts()"
   ]
  },
  {
   "cell_type": "code",
   "execution_count": null,
   "metadata": {},
   "outputs": [
    {
     "data": {
      "text/plain": [
       "array([80., 60., 70.])"
      ]
     },
     "execution_count": 100,
     "metadata": {},
     "output_type": "execute_result"
    }
   ],
   "source": [
    "df[df['Ratio Profit'] < -100]['Discount'].unique()"
   ]
  },
  {
   "cell_type": "code",
   "execution_count": null,
   "metadata": {},
   "outputs": [],
   "source": [
    "product_profit = df.groupby('Product')['Profit'].sum()\n",
    "product_profit = product_profit.sort_values(ascending=False)"
   ]
  },
  {
   "cell_type": "code",
   "execution_count": null,
   "metadata": {},
   "outputs": [
    {
     "ename": "NameError",
     "evalue": "name 'plt' is not defined",
     "output_type": "error",
     "traceback": [
      "\u001b[1;31m---------------------------------------------------------------------------\u001b[0m",
      "\u001b[1;31mNameError\u001b[0m                                 Traceback (most recent call last)",
      "Cell \u001b[1;32mIn[1], line 1\u001b[0m\n\u001b[1;32m----> 1\u001b[0m plt\u001b[38;5;241m.\u001b[39mfigure(figsize\u001b[38;5;241m=\u001b[39m(\u001b[38;5;241m15\u001b[39m,\u001b[38;5;241m5\u001b[39m))\n\u001b[0;32m      2\u001b[0m neon_colors \u001b[38;5;241m=\u001b[39m [\u001b[38;5;124m'\u001b[39m\u001b[38;5;124m#009CA6\u001b[39m\u001b[38;5;124m'\u001b[39m, \u001b[38;5;124m'\u001b[39m\u001b[38;5;124m#D22730\u001b[39m\u001b[38;5;124m'\u001b[39m, \u001b[38;5;124m'\u001b[39m\u001b[38;5;124m#DB3EB1\u001b[39m\u001b[38;5;124m'\u001b[39m]\n\u001b[0;32m      4\u001b[0m ax_top \u001b[38;5;241m=\u001b[39m product_profit\u001b[38;5;241m.\u001b[39mplot(kind\u001b[38;5;241m=\u001b[39m\u001b[38;5;124m'\u001b[39m\u001b[38;5;124mbar\u001b[39m\u001b[38;5;124m'\u001b[39m, title\u001b[38;5;241m=\u001b[39m\u001b[38;5;124m'\u001b[39m\u001b[38;5;124mTrend Profit by Product in (\u001b[39m\u001b[38;5;124m%\u001b[39m\u001b[38;5;124m)\u001b[39m\u001b[38;5;124m'\u001b[39m, color\u001b[38;5;241m=\u001b[39mneon_colors)\n",
      "\u001b[1;31mNameError\u001b[0m: name 'plt' is not defined"
     ]
    }
   ],
   "source": [
    "plt.figure(figsize=(15,5))\n",
    "neon_colors = ['#009CA6', '#D22730', '#DB3EB1']\n",
    "\n",
    "ax_top = product_profit.plot(kind='bar', title='Trend Profit by Product in ($k)', color=neon_colors)\n",
    "\n",
    "for i, v in enumerate(product_profit):\n",
    "    ax_top.text(i, v + 10, f'{v / 1000:.2f}', color='black', ha='center', va='bottom')\n",
    "    \n",
    "plt.xticks(rotation=45)\n",
    "plt.ylabel('Profit in $ (k)')\n",
    "plt.show()\n"
   ]
  },
  {
   "cell_type": "markdown",
   "metadata": {},
   "source": [
    "overview of the relative contribution of each product to the profit"
   ]
  },
  {
   "cell_type": "code",
   "execution_count": null,
   "metadata": {},
   "outputs": [],
   "source": [
    "top_product_profit = df.groupby('Product')['Profit'].sum().nlargest(5)"
   ]
  },
  {
   "cell_type": "code",
   "execution_count": null,
   "metadata": {},
   "outputs": [
    {
     "data": {
      "image/png": "[encoded data removed]",
      "text/plain": [
       "<Figure size 640x480 with 1 Axes>"
      ]
     },
     "metadata": {},
     "output_type": "display_data"
    }
   ],
   "source": [
    "top = top_product_profit.plot(kind='bar', title='Top 5 Products by Profit in ($k)',color=neon_colors)\n",
    "\n",
    "for i, j in enumerate(top_product_profit):\n",
    "    top.text(i, j + 10, f'{j / 1000:.2f}', color='black', ha='center', va='bottom')\n",
    "plt.ylabel('Profi $ (k)')\n",
    "plt.xticks(rotation=45)\n",
    "plt.show()"
   ]
  },
  {
   "cell_type": "markdown",
   "metadata": {},
   "source": [
    "Bottom 5 Profitable Products Analysis"
   ]
  },
  {
   "cell_type": "code",
   "execution_count": null,
   "metadata": {},
   "outputs": [],
   "source": [
    "product_profit_bottom = df.groupby('Product')['Profit'].sum().nsmallest(5)"
   ]
  },
  {
   "cell_type": "code",
   "execution_count": null,
   "metadata": {},
   "outputs": [
    {
     "data": {
      "image/png": "[encoded data removed]",
      "text/plain": [
       "<Figure size 640x480 with 1 Axes>"
      ]
     },
     "metadata": {},
     "output_type": "display_data"
    }
   ],
   "source": [
    "ax_bottom = product_profit_bottom.plot(kind='bar', title='Bottom 3 Products by Profit', color=neon_colors)\n",
    "\n",
    "ax_bottom.axhline(y=0, color='red', linestyle='--', label='Zero Profit')\n",
    "\n",
    "for i, v in enumerate(product_profit_bottom):\n",
    "    ax_bottom.text(i, v + 10, f'{v:.2f}', color='black', ha='center', va='bottom')\n",
    "\n",
    "plt.xticks(range(len(product_profit_bottom.index)), product_profit_bottom.index, rotation=45, ha='right')\n",
    "\n",
    "plt.title('Bottom 3 Products by Profit')\n",
    "plt.xlabel('Product')\n",
    "plt.ylabel('Profit in $')\n",
    "\n",
    "ax_bottom.legend()\n",
    "\n",
    "plt.show()"
   ]
  },
  {
   "cell_type": "markdown",
   "metadata": {},
   "source": [
    "**Insight**\n",
    "\n",
    "- 5 Produk Menguntungkan Teratas: Alchemy, Site Analytics,Data Smasher**\n",
    "    - Produk-produk ini, termasuk Alchemy, Site Analytics,Data Smasher, Support dan FinanceHub menunjukkan profitabilitas yang kuat, menunjukkan respons pasar yang positif dan permintaan yang tinggi.\n",
    "    - Tim Pengembangan Produk harus mempertimbangkan investasi pada penyempurnaan, fitur, atau strategi pemasaran lebih lanjut untuk produk ini guna memanfaatkan kesuksesannya.\n",
    "\n",
    "- 5 Produk Terbawah yang Menguntungkan: Big Ol Database, Storage, Marketing Suite**\n",
    "    - Saas Connector pack-Gold, ChatBot Plugin,Big Ol Database, Storage, and Marketing Suite  menunjukkan profitabilitas yang lebih rendah, yang menunjukkan potensi tantangan dalam kinerja pasar.\n",
    "    - Tim Pengembangan Produk harus mengevaluasi produk-produk ini untuk mengidentifikasi area yang perlu ditingkatkan, diperbarui, atau disesuaikan secara strategis untuk meningkatkan daya saing dan profitabilitasnya secara keseluruhan."
   ]
  },
  {
   "cell_type": "code",
   "execution_count": null,
   "metadata": {},
   "outputs": [
    {
     "data": {
      "text/html": [
       "<div>\n",
       "<style scoped>\n",
       "    .dataframe tbody tr th:only-of-type {\n",
       "        vertical-align: middle;\n",
       "    }\n",
       "\n",
       "    .dataframe tbody tr th {\n",
       "        vertical-align: top;\n",
       "    }\n",
       "\n",
       "    .dataframe thead th {\n",
       "        text-align: right;\n",
       "    }\n",
       "</style>\n",
       "<table border=\"1\" class=\"dataframe\">\n",
       "  <thead>\n",
       "    <tr style=\"text-align: right;\">\n",
       "      <th></th>\n",
       "      <th>Product</th>\n",
       "      <th>Profit</th>\n",
       "    </tr>\n",
       "  </thead>\n",
       "  <tbody>\n",
       "    <tr>\n",
       "      <th>0</th>\n",
       "      <td>Site Analytics</td>\n",
       "      <td>44515.7306</td>\n",
       "    </tr>\n",
       "    <tr>\n",
       "      <th>1</th>\n",
       "      <td>Data Smasher</td>\n",
       "      <td>41936.6357</td>\n",
       "    </tr>\n",
       "    <tr>\n",
       "      <th>2</th>\n",
       "      <td>Alchemy</td>\n",
       "      <td>40497.8681</td>\n",
       "    </tr>\n",
       "    <tr>\n",
       "      <th>3</th>\n",
       "      <td>Support</td>\n",
       "      <td>32864.4698</td>\n",
       "    </tr>\n",
       "    <tr>\n",
       "      <th>4</th>\n",
       "      <td>FinanceHub</td>\n",
       "      <td>32136.4203</td>\n",
       "    </tr>\n",
       "    <tr>\n",
       "      <th>5</th>\n",
       "      <td>Marketing Suite - Gold</td>\n",
       "      <td>21278.8264</td>\n",
       "    </tr>\n",
       "    <tr>\n",
       "      <th>6</th>\n",
       "      <td>OneView</td>\n",
       "      <td>18138.0054</td>\n",
       "    </tr>\n",
       "    <tr>\n",
       "      <th>7</th>\n",
       "      <td>SaaS Connector Pack</td>\n",
       "      <td>13059.1436</td>\n",
       "    </tr>\n",
       "    <tr>\n",
       "      <th>8</th>\n",
       "      <td>ContactMatcher</td>\n",
       "      <td>12496.2822</td>\n",
       "    </tr>\n",
       "    <tr>\n",
       "      <th>9</th>\n",
       "      <td>SaaS Connector Pack - Gold</td>\n",
       "      <td>6964.1767</td>\n",
       "    </tr>\n",
       "    <tr>\n",
       "      <th>10</th>\n",
       "      <td>ChatBot Plugin</td>\n",
       "      <td>6527.7870</td>\n",
       "    </tr>\n",
       "    <tr>\n",
       "      <th>11</th>\n",
       "      <td>Big Ol Database</td>\n",
       "      <td>5195.8353</td>\n",
       "    </tr>\n",
       "    <tr>\n",
       "      <th>12</th>\n",
       "      <td>Storage</td>\n",
       "      <td>949.5182</td>\n",
       "    </tr>\n",
       "    <tr>\n",
       "      <th>13</th>\n",
       "      <td>Marketing Suite</td>\n",
       "      <td>-3472.5560</td>\n",
       "    </tr>\n",
       "  </tbody>\n",
       "</table>\n",
       "</div>"
      ],
      "text/plain": [
       "                       Product      Profit\n",
       "0               Site Analytics  44515.7306\n",
       "1                 Data Smasher  41936.6357\n",
       "2                      Alchemy  40497.8681\n",
       "3                      Support  32864.4698\n",
       "4                   FinanceHub  32136.4203\n",
       "5       Marketing Suite - Gold  21278.8264\n",
       "6                      OneView  18138.0054\n",
       "7          SaaS Connector Pack  13059.1436\n",
       "8               ContactMatcher  12496.2822\n",
       "9   SaaS Connector Pack - Gold   6964.1767\n",
       "10              ChatBot Plugin   6527.7870\n",
       "11             Big Ol Database   5195.8353\n",
       "12                     Storage    949.5182\n",
       "13             Marketing Suite  -3472.5560"
      ]
     },
     "execution_count": 106,
     "metadata": {},
     "output_type": "execute_result"
    }
   ],
   "source": [
    "# buat dataframe\n",
    "data = {'Product': product_profit.index,\n",
    "        'Profit': product_profit.values}\n",
    "\n",
    "profit_df = pd.DataFrame(data)\n",
    "\n",
    "profit_df\n"
   ]
  },
  {
   "cell_type": "markdown",
   "metadata": {},
   "source": [
    "insight: \n",
    "1. *Negative Profit Values*: Ada produk dengan nilai keuntungan negatif, seperti \"Marketing Suite\" dan \"Marketing Suite - Gold\". Hal ini menunjukkan kerugian dari penjualan produk tersebut. Mungkin perlu meninjau strategi penjualan dan penetapan harga.\n",
    "\n",
    "2. *Concerning Correlations*: Terdapat korelasi negatif yang kuat antara diskon dan laba (-0,54). Hal ini menunjukkan bahwa menawarkan diskon tinggi mungkin berdampak negatif pada profitabilitas produk. Perlu dipertimbangkan apakah strategi diskon saat ini efektif atau memerlukan penyesuaian.\n",
    "\n",
    "3. *Low Correlations*: Korelasi antara penjualan dan diskon hanya sebesar -0,06, menunjukkan hubungan yang sangat lemah antara kedua variabel. Hal ini mungkin menunjukkan bahwa kebijakan diskon mempunyai pengaruh yang kecil terhadap peningkatan penjualan.\n",
    "\n",
    "4. *Sales and Profit Misalignment*: Meskipun terdapat korelasi positif yang signifikan antara penjualan dan laba, beberapa produk dengan penjualan tinggi, seperti \"Alchemy\" dan \"Big Ol Database\", memiliki keuntungan yang relatif rendah. Hal ini mungkin menunjukkan masalah efisiensi dalam operasi atau biaya produksi yang tinggi."
   ]
  },
  {
   "cell_type": "code",
   "execution_count": null,
   "metadata": {},
   "outputs": [],
   "source": [
    "df.to_csv('SAAStttttSales.csv')"
   ]
  },
  {
   "cell_type": "markdown",
   "metadata": {},
   "source": [
    "## Conclusion"
   ]
  },
  {
   "cell_type": "markdown",
   "metadata": {},
   "source": [
    "### Sales Pattern\n",
    "- Puncak musiman yang tercatat pada bulan Desember 2020, 2021, dan 2022, menunjukkan potensi pengaruh belanja liburan.\n",
    "- Tren peningkatan penjualan secara keseluruhan yang berfluktuasi, menunjukkan pertumbuhan yang berkelanjutan.\n",
    "\n",
    "### Product Performance\n",
    "- Meskipun trennya positif secara keseluruhan, produk tertentu seperti *Marketing Suite* mengalami kerugian, hal ini menandakan perlunya perbaikan atau penyesuaian strategis untuk meningkatkan profitabilitas.\n",
    "\n",
    "### Industry Demand Analysis\n",
    "- Industri keuangan menunjukkan permintaan yang tinggi terhadap berbagai produk, khususnya *ContactMatcher*, *Support*, dan *FinanceHub*, yang menunjukkan minat pasar yang signifikan dan penerapan yang luas dalam sektor keuangan.\n",
    "\n",
    "### Regional Sales\n",
    "- Produk dengan kinerja terbaik bervariasi antar wilayah, dengan *ContactMatcher* perolehan di *Amerika Serikat*, *FinanceHub* di *Inggris*, dan *Site Analytics* di *Jepang*, menyoroti preferensi regional dan dinamika pasar.\n",
    "\n",
    "### Correlation Analysis\n",
    "- Sales dengan Profit memiliki hubungan moderat (sedang), yang menunjukkan bahwa penjualan yang lebih tinggi cenderung menghasilkan laba yang meningkat."
   ]
  },
  {
   "cell_type": "markdown",
   "metadata": {},
   "source": [
    "## Recommendation"
   ]
  },
  {
   "cell_type": "markdown",
   "metadata": {},
   "source": [
    "### Pricing Strategy Adjustment\n",
    "- Mengevaluasi dan menyesuaikan strategi harga untuk produk dengan margin keuntungan negatif, seperti *Marketing Suite* dan *Marketing Suite - Gold*.\n",
    "- Fleksibel dan responsif terhadap perubahan dalam kebutuhan industry\n",
    "\n",
    "### Discount Strategy Review\n",
    "- Mengingat korelasi negatif yang kuat antara discount dan profit, perlu dilakukan evaluasi strategi discount untuk memastikan hal tersebut berdampak positif terhadap profitabilitas.\n",
    "- Memberikan diskon terbatas waktu (    ) atau menawarkan promosi bundle untuk menarik perhatian customer.\n",
    "\n",
    "### Product Efficiency Improvement\n",
    "- Fokus pada meningkatkan fitur-fitur yang paling diminati, seperti: Site Analytics, Data Smasher, Alchemy, Support dan FinanceHub.\n",
    "kemudian menyederhanakan atau mempertimbangkan untuk menghapus produk dengan demand pasarnya lebih rendah,seperti: *Saas Connector Pack - Gold*, *ChatBot Plugin*, *Storage*, *Big Ol Database*, dan *Marketing Suite* untuk meningkatkan daya saing dan mendorong pertumbuhan pendapatan.\n",
    "\n",
    "### Convert Prospects to Customers\n",
    "- Ketetapan pemasaran yang strategis mempengaruhi customern dalam menarik pelanggan potensial dan mengubah mereka menjadi customer yang membayar.\n",
    "\n",
    "### Return on Investment (ROI) of Sales Efforts\n",
    "- Tinjau sistem yang efisien untuk melacak semua pendapatan dan biaya yang terkait dengan upaya Sales dan Marketing.\n",
    "- Tetapkan target pendapatan yang ingin dicapai dalam periode tertentu.\n"
   ]
  },
  {
   "cell_type": "markdown",
   "metadata": {},
   "source": []
  },
  {
   "cell_type": "markdown",
   "metadata": {},
   "source": []
  }
 ],
 "metadata": {
  "kernelspec": {
   "display_name": "base",
   "language": "python",
   "name": "python3"
  },
  "language_info": {
   "codemirror_mode": {
    "name": "ipython",
    "version": 3
   },
   "file_extension": ".py",
   "mimetype": "text/x-python",
   "name": "python",
   "nbconvert_exporter": "python",
   "pygments_lexer": "ipython3",
   "version": "3.11.5"
  }
 },
 "nbformat": 4,
 "nbformat_minor": 2
}
